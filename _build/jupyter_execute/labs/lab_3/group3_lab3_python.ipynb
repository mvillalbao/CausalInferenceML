{
 "cells": [
  {
   "cell_type": "markdown",
   "metadata": {},
   "source": [
    "# Lab 3 - Python Code"
   ]
  },
  {
   "cell_type": "markdown",
   "metadata": {},
   "source": [
    "**Group 3**: Valerie Dube, Erzo Garay, Juan Marcos Guerrero y Matías Villalba,"
   ]
  },
  {
   "cell_type": "markdown",
   "metadata": {},
   "source": [
    "## 1. Neyman Orthogonality Proof"
   ]
  },
  {
   "cell_type": "markdown",
   "metadata": {},
   "source": [
    "$Y_{nx1}=\\alpha D_{nx1}+W_{nxp}\\beta_{px1}+\\epsilon_{nx1}\\\\\n",
    "\\widetilde{Y}_{nx1}=Y_{nx1}-W_{nxp}X_{{{Yw}_{px1}}}\\\\\n",
    "\\widetilde{D}_{nx1}=D_{nx1}-W_{nxp}X_{{{Dw}_{px1}}}\\\\\n",
    "W=Matrix\\ composed\\ by\\ one\\ variable\\ in\\ each\\ column\\\\\n",
    "X=Vector\\ of\\ coefficients\\\\\n",
    "n=N° observations\\\\\n",
    "p=N° confounders \\\\\\ \n",
    "\\\\\\\n",
    "\\\\\\\n",
    "M(a,\\eta)=E[(\\widetilde{Y}_{nx1}(\\eta_{1})-a\\widetilde{D}(\\eta_{2})_{nx1})'(\\widetilde{D}(\\eta_{2})_{nx1})]=0\\\\\n",
    "\\frac{\\partial a}{\\partial \\eta}=-[\\frac{\\partial M}{\\partial a}(\\alpha,\\eta_{0})]^{-1}[\\frac{\\partial M}{\\partial \\eta}(\\alpha,\\eta_{0})]\\\\\n",
    "\\frac{\\partial M}{\\partial \\eta}(\\alpha,\\eta_{0})=\\frac{\\partial M}{\\partial \\eta_{1}}(\\alpha,X_{Yw},X_{Dw})+\\frac{\\partial M}{\\partial \\eta_{2}}(\\alpha,X_{Yw},X_{Dw})\\\\\n",
    "S_{1}=\\frac{\\partial M}{\\partial \\eta_{1}}(\\alpha,X_{Yw},X_{Dw})  ,  S_{2}=\\frac{\\partial M}{\\partial \\eta_{2}}(\\alpha,X_{Yw},X_{Dw})$\n"
   ]
  },
  {
   "cell_type": "markdown",
   "metadata": {},
   "source": [
    "## Demonstration 1:             "
   ]
  },
  {
   "cell_type": "markdown",
   "metadata": {},
   "source": [
    "$Given\\ the\\ general\\ formula\\,\\ before\\ using\\  (\\alpha,X_{Yw},X_{Dw}): \\widetilde{Y}_{nx1}=Y_{nx1}-W_{nxp}\\eta_{{{1}_{px1}}}  ,\\ \\widetilde{D}_{nx1}=D_{nx1}-W_{nxp}\\eta_{{{2}_{px1}}}: \\\\\\\n",
    "\\\\\\\n",
    "S_{1}=\\frac{\\partial M}{\\partial \\eta_{1}}|_{(\\alpha,W_{Yw},W_{Dw})}\\\\\\\n",
    "\\\\\\\n",
    "=\\frac{\\partial E[(\\widetilde{Y}_{nx1}(\\eta_{1})-a\\widetilde{D}(\\eta_{2})_{nx1})'(\\widetilde{D}(\\eta_{2})_{nx1})}{\\partial \\eta_{1}}|_{(\\alpha,W_{Yw},W_{Dw})}=\\frac{\\partial E[Y_{nx1}-W_{nxp}\\eta_{{{1}_{px1}}}-aD_{nx1}+aW_{nxp}\\eta_{{{2}_{px1}}})'(D_{nx1}-W_{nxp}\\eta_{{{2}_{px1}}})}{\\partial \\eta_{1}}|_{(\\alpha,W_{Yw},W_{Dw})}\\\\\\\n",
    "\\\\\\\n",
    "Substituting\\ (\\alpha,W_{Yw},W_{Dw})\\ in\\ (a,\\eta_{1},\\eta_{2})\\\\\\\n",
    "\\\\\\\n",
    "=\\frac{\\partial E[(\\widetilde{Y}_{nx1}(\\eta_{1})-a\\widetilde{D}(\\eta_{2})_{nx1})'(\\widetilde{D}(\\eta_{2})_{nx1})]}{\\partial \\eta_{1}}|_{(\\alpha,W_{Yw},W_{Dw})}=E[(W_{nxp})'(D_{nx1}-W_{n*p}\\eta_{{2}_{px1}})]|_{(\\alpha,W_{Yw},W_{Dw})}\\\\\n",
    "=E[(W_{nxp})'(D_{nx1}-W_{n*p}X_{{{Dw}_{px1}}})]\\\\\n",
    "=E[W'_{pxn}D_{nx1}-W'_{pxn}W_{nxp}(W'_{pxn}W_{nxp})^{-1}(W'_{pxn}D_{nx1})]\\\\\n",
    "=E[W'_{pxn}D_{nx1}-I_{pxp}(W'_{pxn}D_{nx1})]=E[W'_{pxn}D_{nx1}-W'_{pxn}D_{nx1}]=E[0]\\\\\n",
    "S_{1}=0$"
   ]
  },
  {
   "cell_type": "markdown",
   "metadata": {},
   "source": [
    "## Demonstration 2: "
   ]
  },
  {
   "cell_type": "markdown",
   "metadata": {},
   "source": [
    "$Given\\ the\\ general\\ formula\\,\\ before\\ using\\  (\\alpha,X_{Yw},X_{Dw}): \\widetilde{Y}_{nx1}=y_{nx1}-W_{nxp}\\eta_{{{1}_{px1}}}  ,\\ \\widetilde{D}_{nx1}=D_{nx1}-W_{nxp}\\eta_{{{2}_{px1}}}\\\\\\\n",
    "\\\\\\\n",
    "S_{2}=\\frac{\\partial M}{\\partial \\eta_{2}}|_{(\\alpha,W_{Yw},W_{Dw})}=0\\\\\\\n",
    "\\\\\n",
    "=\\frac{\\partial E[(\\widetilde{Y}_{nx1}(\\eta_{1})-a\\widetilde{D}(\\eta_{2})_{nx1})'(\\widetilde{D}(\\eta_{2})_{nx1})}{\\partial \\eta_{2}}|_{(\\alpha,W_{Yw},W_{Dw})}=\\frac{\\partial E[Y_{nx1}-W_{nxp}\\eta_{{{1}_{px1}}}-aD_{nx1}+aW_{nxp}\\eta_{{{2}_{px1}}})'(D_{nx1}-W_{nxp}\\eta_{{{2}_{px1}}})}{\\partial \\eta_{2}}|_{(\\alpha,W_{Yw},W_{Dw})}\\\\\n",
    "=\\frac{\\partial E[-Y_{1xn}'W_{nxp}\\eta_{{2}_{px1}}+\\eta'_{{1}_{1xn}}W'_{pxn}W_{pxn}\\eta_{{2}_{px1}}+aD'_{1xn}W_{nxp}\\eta_{{2}_{px1}}+a\\eta'_{{2}_{1xp}}W'_{pxn}D_{nx1}-a\\eta'_{{2}_{1xp}}W'_{pxn}W_{nxp}\\eta_{{2}_{px1}}]}{\\partial \\eta_{2}}|_{(\\alpha,W_{Yw},W_{Dw})}\\\\\n",
    "=E[-W'_{pxn}Y_{nx1}+W'_{pxn}W_{nxp}\\eta_{{1}_{px1}}+aW'_{pxn}D_{nx1}+aW'_{pxn}D_{nx1}-aW'_{pxn}W_{nxp}\\eta_{{2}_{px1}}-aW'_{pxn}W_{nxp}\\eta_{{2}_{px1}}]|_{(\\alpha,W_{Yw},W_{Dw})}\\\\\\\n",
    "\\\\\\\n",
    "Substituting\\ (\\alpha,W_{Yw},W_{Dw})\\ in\\ (a,\\eta_{1},\\eta_{2})\\\\\\\n",
    "\\\\\n",
    "=E[-W'_{pxn}Y_{nx1}+W'_{pxn}W_{nxp}X_{{{yw}_{px1}}}+\\alpha W'_{pxn}D_{nx1}+\\alpha W'_{pxn}D_{nx1}-\\alpha W'_{pxn}W_{nxp}X_{{{Dw}_{px1}}}-\\alpha W'_{pxn}W_{nxp}X_{{{Dw}_{px1}}}]\\\\\n",
    "=E[-W'_{pxn}Y_{nx1}+W'_{pxn}W_{nxp}(W'_{pxn}W_{nxp})^{-1}(W'_{pxn}Y_{nx1})+\\alpha W'_{pxn}D_{nx1}+\\alpha W'_{pxn}D_{nx1}-\\alpha W'_{pxn}W_{nxp}(W'_{pxn}W_{nxp})^{-1}(W'_{pxn}D_{nx1})-\\alpha W'_{pxn}W_{nxp}(W'_{pxn}W_{nxp})^{-1}(W'_{pxn}D_{nx1})]\\\\\n",
    "=E[-W'_{pxn}Y_{nx1}+-W'_{pxn}Y_{nx1}+\\alpha W'_{pxn}D_{nx1}+\\alpha W'_{pxn}D_{nx1}-\\alpha W'_{pxn}D_{nx1}-\\alpha W'_{pxn}D_{nx1}]=E[0]=0\\\\\n",
    "S_{2}=0$\n"
   ]
  },
  {
   "cell_type": "markdown",
   "metadata": {},
   "source": [
    "## 2. Code Section"
   ]
  },
  {
   "cell_type": "markdown",
   "metadata": {},
   "source": [
    "### 2.1. Orthogonal Learning"
   ]
  },
  {
   "cell_type": "code",
   "execution_count": 1,
   "metadata": {},
   "outputs": [],
   "source": [
    "import hdmpy\n",
    "import numpy as np\n",
    "import random\n",
    "import statsmodels.api as sm\n",
    "import matplotlib.pyplot as plt\n",
    "from matplotlib import colors\n",
    "from multiprocess import Pool\n",
    "import seaborn as sns\n",
    "import time"
   ]
  },
  {
   "cell_type": "markdown",
   "metadata": {},
   "source": [
    "### Simulation Design"
   ]
  },
  {
   "cell_type": "markdown",
   "metadata": {},
   "source": [
    "We are going to simulate 3 different trials to show the properties we talked about orthogonal learning.\n",
    "\n",
    "For that we first define a function that runs a single observation of our simulation."
   ]
  },
  {
   "cell_type": "code",
   "execution_count": 2,
   "metadata": {},
   "outputs": [],
   "source": [
    "def simulate_once(seed):\n",
    "    import numpy as np  # Ensure numpy is imported within the function\n",
    "    import hdmpy\n",
    "    import statsmodels.api as sm\n",
    "    np.random.seed(seed)\n",
    "    n = 100\n",
    "    p = 100\n",
    "    beta = ( 1 / (np.arange( 1, p + 1 ) ** 2 ) ).reshape( p , 1 )\n",
    "    gamma = ( 1 / (np.arange( 1, p + 1 ) ** 2 ) ).reshape( p , 1 )\n",
    "\n",
    "    mean = 0\n",
    "    sd = 1\n",
    "    X = np.random.normal( mean , sd, n * p ).reshape( n, p )\n",
    "\n",
    "    D = ( X @ gamma ) + np.random.normal( mean , sd, n ).reshape( n, 1 )/4 # We reshape because in r when we sum a vecto with a matrix it sum by column\n",
    "    Y = 10 * D + ( X @ beta ) + np.random.normal( mean , sd, n ).reshape( n, 1 )\n",
    "\n",
    "    # single selection method\n",
    "    r_lasso_estimation = hdmpy.rlasso( np.concatenate( ( D , X ) , axis  =  1 ) , Y , post = True ) # Regress main equation by lasso\n",
    "    coef_array = r_lasso_estimation.est[ 'coefficients' ].iloc[ 2:, :].to_numpy()    # Get \"X\" coefficients \n",
    "    SX_IDs = np.where( coef_array != 0 )[0]\n",
    "\n",
    "    # In case all X coefficients are zero, then regress Y on D\n",
    "    if sum(SX_IDs) == 0 : \n",
    "        naive_coef = sm.OLS( Y , sm.add_constant(D) ).fit().summary2().tables[1].round(3).iloc[ 1, 0 ] \n",
    "\n",
    "    # Otherwise, then regress Y on X and D (but only in the selected coefficients)\n",
    "    elif sum( SX_IDs ) > 0 :\n",
    "        X_D = np.concatenate( ( D, X[:, SX_IDs ] ) , axis = 1 )\n",
    "        naive_coef = sm.OLS( Y , sm.add_constant( X_D ) ).fit().summary2().tables[1].round(3).iloc[ 1, 0]\n",
    "\n",
    "    # In both cases we save D coefficient\n",
    "        \n",
    "    # Regress residuals. \n",
    "    resY = hdmpy.rlasso( X , Y , post = False ).est[ 'residuals' ]\n",
    "    resD = hdmpy.rlasso( X , D , post = False ).est[ 'residuals' ]\n",
    "    orthogonal_coef = sm.OLS( resY , sm.add_constant( resD ) ).fit().summary2().tables[1].round(3).iloc[ 1, 0]\n",
    "\n",
    "    return naive_coef, orthogonal_coef"
   ]
  },
  {
   "cell_type": "markdown",
   "metadata": {},
   "source": [
    "Then we define a function that runs the simulation on its enterity, using parallel computing and the function we previously defined."
   ]
  },
  {
   "cell_type": "code",
   "execution_count": 3,
   "metadata": {},
   "outputs": [],
   "source": [
    "def run_simulation(B):\n",
    "    with Pool() as pool:\n",
    "        results = pool.map(simulate_once, range(B))\n",
    "    Naive = np.array([result[0] for result in results])\n",
    "    Orthogonal = np.array([result[1] for result in results])\n",
    "    return Naive, Orthogonal"
   ]
  },
  {
   "cell_type": "code",
   "execution_count": 4,
   "metadata": {},
   "outputs": [],
   "source": [
    "Orto_breaks = np.arange(8,12,0.2)\n",
    "Naive_breaks = np.arange(8,12,0.2)"
   ]
  },
  {
   "cell_type": "markdown",
   "metadata": {},
   "source": [
    "Next we run the simulations with 100, 1000, and 10000 iterations and plot the histograms for the Naive and Orthogonal estimations"
   ]
  },
  {
   "cell_type": "code",
   "execution_count": 5,
   "metadata": {},
   "outputs": [
    {
     "data": {
      "image/png": "[encoded data removed]",
      "text/plain": [
       "<Figure size 640x480 with 2 Axes>"
      ]
     },
     "metadata": {},
     "output_type": "display_data"
    },
    {
     "name": "stdout",
     "output_type": "stream",
     "text": [
      "Time taken for 100 iteration simulation: 9.80 seconds\n"
     ]
    },
    {
     "name": "stderr",
     "output_type": "stream",
     "text": [
      "Exception in thread Thread-8 (_handle_workers):\n",
      "Traceback (most recent call last):\n",
      "  File \"C:\\Users\\Matias Villalba\\AppData\\Local\\Programs\\Python\\Python312\\Lib\\threading.py\", line 1073, in _bootstrap_inner\n",
      "    self.run()\n",
      "  File \"C:\\Users\\Matias Villalba\\AppData\\Roaming\\Python\\Python312\\site-packages\\ipykernel\\ipkernel.py\", line 761, in run_closure\n",
      "    _threading_Thread_run(self)\n",
      "  File \"C:\\Users\\Matias Villalba\\AppData\\Local\\Programs\\Python\\Python312\\Lib\\threading.py\", line 1010, in run\n",
      "    self._target(*self._args, **self._kwargs)\n",
      "  File \"C:\\Users\\Matias Villalba\\AppData\\Local\\Programs\\Python\\Python312\\Lib\\site-packages\\multiprocess\\pool.py\", line 516, in _handle_workers\n",
      "    cls._maintain_pool(ctx, Process, processes, pool, inqueue,\n",
      "  File \"C:\\Users\\Matias Villalba\\AppData\\Local\\Programs\\Python\\Python312\\Lib\\site-packages\\multiprocess\\pool.py\", line 340, in _maintain_pool\n",
      "    Pool._repopulate_pool_static(ctx, Process, processes, pool,\n",
      "  File \"C:\\Users\\Matias Villalba\\AppData\\Local\\Programs\\Python\\Python312\\Lib\\site-packages\\multiprocess\\pool.py\", line 329, in _repopulate_pool_static\n",
      "    w.start()\n",
      "  File \"C:\\Users\\Matias Villalba\\AppData\\Local\\Programs\\Python\\Python312\\Lib\\site-packages\\multiprocess\\process.py\", line 121, in start\n",
      "    self._popen = self._Popen(self)\n",
      "                  ^^^^^^^^^^^^^^^^^\n",
      "  File \"C:\\Users\\Matias Villalba\\AppData\\Local\\Programs\\Python\\Python312\\Lib\\site-packages\\multiprocess\\context.py\", line 337, in _Popen\n"
     ]
    },
    {
     "name": "stderr",
     "output_type": "stream",
     "text": [
      "    return Popen(process_obj)\n",
      "           ^^^^^^^^^^^^^^^^^^\n",
      "  File \"C:\\Users\\Matias Villalba\\AppData\\Local\\Programs\\Python\\Python312\\Lib\\site-packages\\multiprocess\\popen_spawn_win32.py\", line 95, in __init__\n",
      "    reduction.dump(process_obj, to_child)\n",
      "  File \"C:\\Users\\Matias Villalba\\AppData\\Local\\Programs\\Python\\Python312\\Lib\\site-packages\\multiprocess\\reduction.py\", line 63, in dump\n",
      "    ForkingPickler(file, protocol, *args, **kwds).dump(obj)\n",
      "  File \"C:\\Users\\Matias Villalba\\AppData\\Local\\Programs\\Python\\Python312\\Lib\\site-packages\\dill\\_dill.py\", line 420, in dump\n",
      "    StockPickler.dump(self, obj)\n",
      "  File \"C:\\Users\\Matias Villalba\\AppData\\Local\\Programs\\Python\\Python312\\Lib\\pickle.py\", line 481, in dump\n",
      "    self.save(obj)\n",
      "  File \"C:\\Users\\Matias Villalba\\AppData\\Local\\Programs\\Python\\Python312\\Lib\\site-packages\\dill\\_dill.py\", line 414, in save\n",
      "    StockPickler.save(self, obj, save_persistent_id)\n",
      "  File \"C:\\Users\\Matias Villalba\\AppData\\Local\\Programs\\Python\\Python312\\Lib\\pickle.py\", line 597, in save\n",
      "    self.save_reduce(obj=obj, *rv)\n",
      "  File \"C:\\Users\\Matias Villalba\\AppData\\Local\\Programs\\Python\\Python312\\Lib\\pickle.py\", line 711, in save_reduce\n",
      "    save(state)\n",
      "  File \"C:\\Users\\Matias Villalba\\AppData\\Local\\Programs\\Python\\Python312\\Lib\\site-packages\\dill\\_dill.py\", line 414, in save\n",
      "    StockPickler.save(self, obj, save_persistent_id)\n",
      "  File \"C:\\Users\\Matias Villalba\\AppData\\Local\\Programs\\Python\\Python312\\Lib\\pickle.py\", line 554, in save\n",
      "    f(self, obj)  # Call unbound method with explicit self\n",
      "    ^^^^^^^^^^^^\n",
      "  File \"C:\\Users\\Matias Villalba\\AppData\\Local\\Programs\\Python\\Python312\\Lib\\site-packages\\dill\\_dill.py\", line 1217, in save_module_dict\n",
      "    StockPickler.save_dict(pickler, obj)\n",
      "  File \"C:\\Users\\Matias Villalba\\AppData\\Local\\Programs\\Python\\Python312\\Lib\\pickle.py\", line 966, in save_dict\n",
      "    self._batch_setitems(obj.items())\n",
      "  File \"C:\\Users\\Matias Villalba\\AppData\\Local\\Programs\\Python\\Python312\\Lib\\pickle.py\", line 990, in _batch_setitems\n",
      "    save(v)\n",
      "  File \"C:\\Users\\Matias Villalba\\AppData\\Local\\Programs\\Python\\Python312\\Lib\\site-packages\\dill\\_dill.py\", line 414, in save\n",
      "    StockPickler.save(self, obj, save_persistent_id)\n",
      "  File \"C:\\Users\\Matias Villalba\\AppData\\Local\\Programs\\Python\\Python312\\Lib\\pickle.py\", line 554, in save\n",
      "    f(self, obj)  # Call unbound method with explicit self\n",
      "    ^^^^^^^^^^^^\n",
      "  File \"C:\\Users\\Matias Villalba\\AppData\\Local\\Programs\\Python\\Python312\\Lib\\pickle.py\", line 896, in save_tuple\n",
      "    save(element)\n",
      "  File \"C:\\Users\\Matias Villalba\\AppData\\Local\\Programs\\Python\\Python312\\Lib\\site-packages\\dill\\_dill.py\", line 414, in save\n",
      "    StockPickler.save(self, obj, save_persistent_id)\n",
      "  File \"C:\\Users\\Matias Villalba\\AppData\\Local\\Programs\\Python\\Python312\\Lib\\pickle.py\", line 597, in save\n",
      "    self.save_reduce(obj=obj, *rv)\n",
      "  File \"C:\\Users\\Matias Villalba\\AppData\\Local\\Programs\\Python\\Python312\\Lib\\pickle.py\", line 711, in save_reduce\n",
      "    save(state)\n",
      "  File \"C:\\Users\\Matias Villalba\\AppData\\Local\\Programs\\Python\\Python312\\Lib\\site-packages\\dill\\_dill.py\", line 414, in save\n",
      "    StockPickler.save(self, obj, save_persistent_id)\n",
      "  File \"C:\\Users\\Matias Villalba\\AppData\\Local\\Programs\\Python\\Python312\\Lib\\pickle.py\", line 554, in save\n",
      "    f(self, obj)  # Call unbound method with explicit self\n",
      "    ^^^^^^^^^^^^\n",
      "  File \"C:\\Users\\Matias Villalba\\AppData\\Local\\Programs\\Python\\Python312\\Lib\\pickle.py\", line 896, in save_tuple\n",
      "    save(element)\n",
      "  File \"C:\\Users\\Matias Villalba\\AppData\\Local\\Programs\\Python\\Python312\\Lib\\site-packages\\dill\\_dill.py\", line 414, in save\n",
      "    StockPickler.save(self, obj, save_persistent_id)\n",
      "  File \"C:\\Users\\Matias Villalba\\AppData\\Local\\Programs\\Python\\Python312\\Lib\\pickle.py\", line 572, in save\n",
      "    rv = reduce(self.proto)\n",
      "         ^^^^^^^^^^^^^^^^^^\n",
      "  File \"C:\\Users\\Matias Villalba\\AppData\\Local\\Programs\\Python\\Python312\\Lib\\site-packages\\multiprocess\\synchronize.py\", line 110, in __getstate__\n",
      "    h = context.get_spawning_popen().duplicate_for_child(sl.handle)\n",
      "        ^^^^^^^^^^^^^^^^^^^^^^^^^^^^^^^^^^^^^^^^^^^^^^^^^^^^^^^^^^^\n",
      "  File \"C:\\Users\\Matias Villalba\\AppData\\Local\\Programs\\Python\\Python312\\Lib\\site-packages\\multiprocess\\popen_spawn_win32.py\", line 101, in duplicate_for_child\n",
      "    return reduction.duplicate(handle, self.sentinel)\n",
      "           ^^^^^^^^^^^^^^^^^^^^^^^^^^^^^^^^^^^^^^^^^^\n",
      "  File \"C:\\Users\\Matias Villalba\\AppData\\Local\\Programs\\Python\\Python312\\Lib\\site-packages\\multiprocess\\reduction.py\", line 82, in duplicate\n",
      "    return _winapi.DuplicateHandle(\n",
      "           ^^^^^^^^^^^^^^^^^^^^^^^^\n",
      "PermissionError: [WinError 5] Access is denied\n"
     ]
    }
   ],
   "source": [
    "Bs = [100, 1000, 10000]\n",
    "\n",
    "for B in Bs:\n",
    "    start_time = time.time()\n",
    "    Naive, Orthogonal = run_simulation(B)\n",
    "    end_time = time.time()\n",
    "    elapsed_time = end_time - start_time  # Calculate elapsed time\n",
    "    \n",
    "    fig, axs = plt.subplots(1, 2, sharex=True, tight_layout=True)\n",
    "    axs[0].hist(Orthogonal, range=(8,12), density=True, bins=Orto_breaks, color='lightblue')\n",
    "    axs[1].hist(Naive, range=(8,12), density=True, bins=Naive_breaks, color='lightblue')\n",
    "    sns.kdeplot(Orthogonal, ax=axs[0], color='darkblue')\n",
    "    sns.kdeplot(Naive, ax=axs[1], color='darkblue')\n",
    "    \n",
    "    axs[0].axvline(x=np.mean(Orthogonal), color='blue', linestyle='--', label='Average estimated effect')\n",
    "    axs[1].axvline(x=np.mean(Naive), color='blue', linestyle='--', label='Average estimated effect')\n",
    "    axs[0].axvline(x=10, color='red', linestyle='--', label='True Effect')\n",
    "    axs[1].axvline(x=10, color='red', linestyle='--', label='True Effect')\n",
    "    axs[0].title.set_text('Orthogonal estimation')\n",
    "    axs[1].title.set_text('Naive estimation')\n",
    "    axs[0].set_xlabel('Estimated Treatment Effect')\n",
    "    axs[1].set_xlabel('Estimated Treatment Effect')\n",
    "    handles, labels = axs[0].get_legend_handles_labels()\n",
    "    fig.legend(handles, labels, loc='lower center', ncol=3, bbox_to_anchor=(0.5, -0.05))\n",
    "    plt.suptitle(f'Simulation with {B} iterations')\n",
    "    plt.show()\n",
    "\n",
    "    print(f'Time taken for {B} iteration simulation: {elapsed_time:.2f} seconds')"
   ]
  },
  {
   "cell_type": "markdown",
   "metadata": {},
   "source": [
    "We can se that the orthogonal estimation yields on average a coeficient more centered on the true effect than the naive estimation. This method of estimation that utilizes the residuals of lasso regresion and helps reduce bias more efficiently than the naive estimation method. This is because it leverages the properties explained on the begining of this notebook rather than just controlling for a relevant set of covariates which may induce endogeneity."
   ]
  },
  {
   "cell_type": "markdown",
   "metadata": {},
   "source": [
    "We have used parallel computing because it is supposed to allow us to achieve better processing times. It can significantly lower the running time of computations due to its ability to distribute the workload across multiple processing units.\n",
    "\n",
    "As an example, we can see how long it would have taken to run the simulation with 1000 iteration if we had not utilized parallel computing."
   ]
  },
  {
   "cell_type": "markdown",
   "metadata": {},
   "source": [
    "Without parallel computing"
   ]
  },
  {
   "cell_type": "code",
   "execution_count": null,
   "metadata": {},
   "outputs": [
    {
     "name": "stdout",
     "output_type": "stream",
     "text": [
      "Time taken for 1000 iteration simulation without multiprocessing: 488.92 seconds\n"
     ]
    }
   ],
   "source": [
    "np.random.seed(0)\n",
    "B = 1000\n",
    "Naive = np.zeros( B )\n",
    "Orthogonal = np.zeros( B )\n",
    "\n",
    "start_time = time.time()\n",
    "for i in range( 0, B ):\n",
    "    n = 100\n",
    "    p = 100\n",
    "    beta = ( 1 / (np.arange( 1, p + 1 ) ** 2 ) ).reshape( p , 1 )\n",
    "    gamma = ( 1 / (np.arange( 1, p + 1 ) ** 2 ) ).reshape( p , 1 )\n",
    "\n",
    "    mean = 0\n",
    "    sd = 1\n",
    "    X = np.random.normal( mean , sd, n * p ).reshape( n, p )\n",
    "\n",
    "    D = ( X @ gamma ) + np.random.normal( mean , sd, n ).reshape( n, 1 )/4 # We reshape because in r when we sum a vecto with a matrix it sum by column\n",
    "    \n",
    "    # DGP \n",
    "    Y = 10*D + ( X @ beta ) + np.random.normal( mean , sd, n ).reshape( n, 1 )\n",
    "\n",
    "    # single selection method\n",
    "    r_lasso_estimation = hdmpy.rlasso( np.concatenate( ( D , X ) , axis  =  1 ) , Y , post = True ) # Regress main equation by lasso\n",
    "\n",
    "    coef_array = r_lasso_estimation.est[ 'coefficients' ].iloc[ 2:, :].to_numpy()    # Get \"X\" coefficients \n",
    "\n",
    "    SX_IDs = np.where( coef_array != 0 )[0]\n",
    "\n",
    "    # In case all X coefficients are zero, then regress Y on D\n",
    "    if sum(SX_IDs) == 0 : \n",
    "        Naive[ i ] = sm.OLS( Y , sm.add_constant(D) ).fit().summary2().tables[1].round(3).iloc[ 1, 0 ] \n",
    "\n",
    "    # Otherwise, then regress Y on X and D (but only in the selected coefficients)\n",
    "    elif sum( SX_IDs ) > 0 :\n",
    "        X_D = np.concatenate( ( D, X[:, SX_IDs ] ) , axis = 1 )\n",
    "        Naive[ i ] = sm.OLS( Y , sm.add_constant( X_D ) ).fit().summary2().tables[1].round(3).iloc[ 1, 0]\n",
    "\n",
    "    # In both cases we save D coefficient\n",
    "        \n",
    "    # Regress residuals. \n",
    "    resY = hdmpy.rlasso( X , Y , post = False ).est[ 'residuals' ]\n",
    "    resD = hdmpy.rlasso( X , D , post = False ).est[ 'residuals' ]\n",
    "    Orthogonal[ i ] = sm.OLS( resY , sm.add_constant( resD ) ).fit().summary2().tables[1].round(3).iloc[ 1, 0]\n",
    "end_time = time.time()\n",
    "elapsed_time = end_time - start_time  # Calculate elapsed time\n",
    "print(f'Time taken for {B} iteration simulation without multiprocessing: {elapsed_time:.2f} seconds')"
   ]
  },
  {
   "cell_type": "markdown",
   "metadata": {},
   "source": [
    "We can see that if we were to not use parallel computing, the processing time would be higher. It took 488 seconds to achieve what we achieved in 79."
   ]
  },
  {
   "cell_type": "markdown",
   "metadata": {},
   "source": [
    "### 2.2. Double Lasso - Using School data"
   ]
  },
  {
   "cell_type": "code",
   "execution_count": 76,
   "metadata": {},
   "outputs": [],
   "source": [
    "# Libraries\n",
    "import numpy as np\n",
    "import pandas as pd\n",
    "import matplotlib.pyplot as plt\n",
    "import statsmodels.api as sm\n",
    "import statsmodels.formula.api as smf\n",
    "from stargazer.stargazer import Stargazer\n",
    "from sklearn.model_selection import train_test_split\n",
    "from sklearn.preprocessing import StandardScaler\n",
    "from sklearn.linear_model import LassoCV"
   ]
  },
  {
   "cell_type": "markdown",
   "metadata": {},
   "source": [
    "#### 2.2.1. Preprocessing data"
   ]
  },
  {
   "cell_type": "code",
   "execution_count": 77,
   "metadata": {},
   "outputs": [],
   "source": [
    "# Read csv file\n",
    "df = pd.read_csv('./data/bruhn2016.csv', delimiter=',')"
   ]
  },
  {
   "cell_type": "code",
   "execution_count": 78,
   "metadata": {},
   "outputs": [
    {
     "data": {
      "text/html": [
       "<div>\n",
       "<style scoped>\n",
       "    .dataframe tbody tr th:only-of-type {\n",
       "        vertical-align: middle;\n",
       "    }\n",
       "\n",
       "    .dataframe tbody tr th {\n",
       "        vertical-align: top;\n",
       "    }\n",
       "\n",
       "    .dataframe thead th {\n",
       "        text-align: right;\n",
       "    }\n",
       "</style>\n",
       "<table border=\"1\" class=\"dataframe\">\n",
       "  <thead>\n",
       "    <tr style=\"text-align: right;\">\n",
       "      <th></th>\n",
       "      <th>outcome.test.score</th>\n",
       "      <th>treatment</th>\n",
       "      <th>school</th>\n",
       "      <th>is.female</th>\n",
       "      <th>mother.attended.secondary.school</th>\n",
       "      <th>father.attened.secondary.school</th>\n",
       "      <th>failed.at.least.one.school.year</th>\n",
       "      <th>family.receives.cash.transfer</th>\n",
       "      <th>has.computer.with.internet.at.home</th>\n",
       "      <th>is.unemployed</th>\n",
       "      <th>has.some.form.of.income</th>\n",
       "      <th>saves.money.for.future.purchases</th>\n",
       "      <th>intention.to.save.index</th>\n",
       "      <th>makes.list.of.expenses.every.month</th>\n",
       "      <th>negotiates.prices.or.payment.methods</th>\n",
       "      <th>financial.autonomy.index</th>\n",
       "    </tr>\n",
       "  </thead>\n",
       "  <tbody>\n",
       "    <tr>\n",
       "      <th>0</th>\n",
       "      <td>47.367374</td>\n",
       "      <td>0</td>\n",
       "      <td>17018390</td>\n",
       "      <td>NaN</td>\n",
       "      <td>NaN</td>\n",
       "      <td>NaN</td>\n",
       "      <td>NaN</td>\n",
       "      <td>NaN</td>\n",
       "      <td>NaN</td>\n",
       "      <td>1.0</td>\n",
       "      <td>1.0</td>\n",
       "      <td>0.0</td>\n",
       "      <td>29.0</td>\n",
       "      <td>0.0</td>\n",
       "      <td>1.0</td>\n",
       "      <td>52.0</td>\n",
       "    </tr>\n",
       "    <tr>\n",
       "      <th>1</th>\n",
       "      <td>58.176758</td>\n",
       "      <td>1</td>\n",
       "      <td>33002614</td>\n",
       "      <td>NaN</td>\n",
       "      <td>NaN</td>\n",
       "      <td>NaN</td>\n",
       "      <td>NaN</td>\n",
       "      <td>NaN</td>\n",
       "      <td>NaN</td>\n",
       "      <td>0.0</td>\n",
       "      <td>0.0</td>\n",
       "      <td>0.0</td>\n",
       "      <td>41.0</td>\n",
       "      <td>0.0</td>\n",
       "      <td>0.0</td>\n",
       "      <td>27.0</td>\n",
       "    </tr>\n",
       "    <tr>\n",
       "      <th>2</th>\n",
       "      <td>56.671661</td>\n",
       "      <td>1</td>\n",
       "      <td>35002914</td>\n",
       "      <td>1.0</td>\n",
       "      <td>1.0</td>\n",
       "      <td>1.0</td>\n",
       "      <td>0.0</td>\n",
       "      <td>0.0</td>\n",
       "      <td>0.0</td>\n",
       "      <td>1.0</td>\n",
       "      <td>0.0</td>\n",
       "      <td>0.0</td>\n",
       "      <td>48.0</td>\n",
       "      <td>0.0</td>\n",
       "      <td>1.0</td>\n",
       "      <td>56.0</td>\n",
       "    </tr>\n",
       "    <tr>\n",
       "      <th>3</th>\n",
       "      <td>29.079376</td>\n",
       "      <td>0</td>\n",
       "      <td>35908915</td>\n",
       "      <td>1.0</td>\n",
       "      <td>0.0</td>\n",
       "      <td>0.0</td>\n",
       "      <td>0.0</td>\n",
       "      <td>0.0</td>\n",
       "      <td>0.0</td>\n",
       "      <td>0.0</td>\n",
       "      <td>0.0</td>\n",
       "      <td>0.0</td>\n",
       "      <td>42.0</td>\n",
       "      <td>0.0</td>\n",
       "      <td>0.0</td>\n",
       "      <td>27.0</td>\n",
       "    </tr>\n",
       "    <tr>\n",
       "      <th>4</th>\n",
       "      <td>49.563534</td>\n",
       "      <td>1</td>\n",
       "      <td>33047324</td>\n",
       "      <td>1.0</td>\n",
       "      <td>0.0</td>\n",
       "      <td>0.0</td>\n",
       "      <td>0.0</td>\n",
       "      <td>0.0</td>\n",
       "      <td>1.0</td>\n",
       "      <td>0.0</td>\n",
       "      <td>1.0</td>\n",
       "      <td>0.0</td>\n",
       "      <td>50.0</td>\n",
       "      <td>0.0</td>\n",
       "      <td>1.0</td>\n",
       "      <td>31.0</td>\n",
       "    </tr>\n",
       "  </tbody>\n",
       "</table>\n",
       "</div>"
      ],
      "text/plain": [
       "   outcome.test.score  treatment    school  is.female  \\\n",
       "0           47.367374          0  17018390        NaN   \n",
       "1           58.176758          1  33002614        NaN   \n",
       "2           56.671661          1  35002914        1.0   \n",
       "3           29.079376          0  35908915        1.0   \n",
       "4           49.563534          1  33047324        1.0   \n",
       "\n",
       "   mother.attended.secondary.school  father.attened.secondary.school  \\\n",
       "0                               NaN                              NaN   \n",
       "1                               NaN                              NaN   \n",
       "2                               1.0                              1.0   \n",
       "3                               0.0                              0.0   \n",
       "4                               0.0                              0.0   \n",
       "\n",
       "   failed.at.least.one.school.year  family.receives.cash.transfer  \\\n",
       "0                              NaN                            NaN   \n",
       "1                              NaN                            NaN   \n",
       "2                              0.0                            0.0   \n",
       "3                              0.0                            0.0   \n",
       "4                              0.0                            0.0   \n",
       "\n",
       "   has.computer.with.internet.at.home  is.unemployed  has.some.form.of.income  \\\n",
       "0                                 NaN            1.0                      1.0   \n",
       "1                                 NaN            0.0                      0.0   \n",
       "2                                 0.0            1.0                      0.0   \n",
       "3                                 0.0            0.0                      0.0   \n",
       "4                                 1.0            0.0                      1.0   \n",
       "\n",
       "   saves.money.for.future.purchases  intention.to.save.index  \\\n",
       "0                               0.0                     29.0   \n",
       "1                               0.0                     41.0   \n",
       "2                               0.0                     48.0   \n",
       "3                               0.0                     42.0   \n",
       "4                               0.0                     50.0   \n",
       "\n",
       "   makes.list.of.expenses.every.month  negotiates.prices.or.payment.methods  \\\n",
       "0                                 0.0                                   1.0   \n",
       "1                                 0.0                                   0.0   \n",
       "2                                 0.0                                   1.0   \n",
       "3                                 0.0                                   0.0   \n",
       "4                                 0.0                                   1.0   \n",
       "\n",
       "   financial.autonomy.index  \n",
       "0                      52.0  \n",
       "1                      27.0  \n",
       "2                      56.0  \n",
       "3                      27.0  \n",
       "4                      31.0  "
      ]
     },
     "execution_count": 78,
     "metadata": {},
     "output_type": "execute_result"
    }
   ],
   "source": [
    "df.head()"
   ]
  },
  {
   "cell_type": "code",
   "execution_count": 79,
   "metadata": {},
   "outputs": [],
   "source": [
    "# Drop missing values, we lose 5077 values (from 17299 to 12222 rows)\n",
    "df.dropna(axis=0, inplace=True)\n",
    "df.reset_index(inplace=True ,drop=True)"
   ]
  },
  {
   "cell_type": "code",
   "execution_count": 80,
   "metadata": {},
   "outputs": [
    {
     "data": {
      "text/plain": [
       "Index(['outcome.test.score', 'treatment', 'school', 'is.female',\n",
       "       'mother.attended.secondary.school', 'father.attened.secondary.school',\n",
       "       'failed.at.least.one.school.year', 'family.receives.cash.transfer',\n",
       "       'has.computer.with.internet.at.home', 'is.unemployed',\n",
       "       'has.some.form.of.income', 'saves.money.for.future.purchases',\n",
       "       'intention.to.save.index', 'makes.list.of.expenses.every.month',\n",
       "       'negotiates.prices.or.payment.methods', 'financial.autonomy.index'],\n",
       "      dtype='object')"
      ]
     },
     "execution_count": 80,
     "metadata": {},
     "output_type": "execute_result"
    }
   ],
   "source": [
    "df.columns"
   ]
  },
  {
   "cell_type": "code",
   "execution_count": 81,
   "metadata": {},
   "outputs": [],
   "source": [
    "dependent_vars = ['outcome.test.score', 'intention.to.save.index', 'negotiates.prices.or.payment.methods', 'has.some.form.of.income', 'makes.list.of.expenses.every.month', 'financial.autonomy.index', 'saves.money.for.future.purchases', 'is.unemployed']"
   ]
  },
  {
   "cell_type": "markdown",
   "metadata": {},
   "source": [
    "For Lasso regressions, we split the data into train and test data, and standarize the covariates matrix"
   ]
  },
  {
   "cell_type": "code",
   "execution_count": 82,
   "metadata": {},
   "outputs": [],
   "source": [
    "# Train test split\n",
    "X = df.drop(dependent_vars, axis = 1)\n",
    "y = df[dependent_vars]\n",
    "\n",
    "X_train, X_test, y_train, y_test = train_test_split(X, y, test_size = 0.2, random_state = 42)"
   ]
  },
  {
   "cell_type": "code",
   "execution_count": 83,
   "metadata": {},
   "outputs": [],
   "source": [
    "T_train = X_train['treatment']\n",
    "T_test = X_test['treatment']\n",
    "\n",
    "X_train = X_train.drop(['treatment'], axis = 1)\n",
    "X_test = X_test.drop(['treatment'], axis = 1)\n"
   ]
  },
  {
   "cell_type": "code",
   "execution_count": 84,
   "metadata": {},
   "outputs": [],
   "source": [
    "# Standarize X data\n",
    "scale = StandardScaler()\n",
    "\n",
    "X_train_scaled = pd.DataFrame(scale.fit_transform(X_train), index=X_train.index)\n",
    "X_test_scaled = pd.DataFrame(scale.transform(X_test), index=X_test.index)"
   ]
  },
  {
   "cell_type": "code",
   "execution_count": 85,
   "metadata": {},
   "outputs": [],
   "source": [
    "X_scaled = pd.concat([X_train_scaled, X_test_scaled]).sort_index()\n",
    "T = pd.concat([T_train, T_test]).sort_index()"
   ]
  },
  {
   "cell_type": "markdown",
   "metadata": {},
   "source": [
    "#### 2.2.2. Regressions"
   ]
  },
  {
   "cell_type": "markdown",
   "metadata": {},
   "source": [
    "##### a. OLS"
   ]
  },
  {
   "cell_type": "markdown",
   "metadata": {},
   "source": [
    "From 1 - 3 regression: measures treatment impact on **student financial proficiency**\n",
    "\n",
    "From 4 - 6 regression: measures treatment impact on **student savings behavior and attitudes**\n",
    "\n",
    "From 7 - 9 regression: measures treatment impact on **student money management behavior and attitudes**\n",
    "\n",
    "From 10 - 12 regression: measures treatment impact on **student entrepreneurship and work outcomes**"
   ]
  },
  {
   "cell_type": "code",
   "execution_count": 86,
   "metadata": {},
   "outputs": [
    {
     "name": "stdout",
     "output_type": "stream",
     "text": [
      "Intel MKL WARNING: Support of Intel(R) Streaming SIMD Extensions 4.2 (Intel(R) SSE4.2) enabled only processors has been deprecated. Intel oneAPI Math Kernel Library 2025.0 will require Intel(R) Advanced Vector Extensions (Intel(R) AVX) instructions.\n",
      "Intel MKL WARNING: Support of Intel(R) Streaming SIMD Extensions 4.2 (Intel(R) SSE4.2) enabled only processors has been deprecated. Intel oneAPI Math Kernel Library 2025.0 will require Intel(R) Advanced Vector Extensions (Intel(R) AVX) instructions.\n",
      "Intel MKL WARNING: Support of Intel(R) Streaming SIMD Extensions 4.2 (Intel(R) SSE4.2) enabled only processors has been deprecated. Intel oneAPI Math Kernel Library 2025.0 will require Intel(R) Advanced Vector Extensions (Intel(R) AVX) instructions.\n",
      "Intel MKL WARNING: Support of Intel(R) Streaming SIMD Extensions 4.2 (Intel(R) SSE4.2) enabled only processors has been deprecated. Intel oneAPI Math Kernel Library 2025.0 will require Intel(R) Advanced Vector Extensions (Intel(R) AVX) instructions.\n",
      "Intel MKL WARNING: Support of Intel(R) Streaming SIMD Extensions 4.2 (Intel(R) SSE4.2) enabled only processors has been deprecated. Intel oneAPI Math Kernel Library 2025.0 will require Intel(R) Advanced Vector Extensions (Intel(R) AVX) instructions.\n",
      "Intel MKL WARNING: Support of Intel(R) Streaming SIMD Extensions 4.2 (Intel(R) SSE4.2) enabled only processors has been deprecated. Intel oneAPI Math Kernel Library 2025.0 will require Intel(R) Advanced Vector Extensions (Intel(R) AVX) instructions.\n",
      "Intel MKL WARNING: Support of Intel(R) Streaming SIMD Extensions 4.2 (Intel(R) SSE4.2) enabled only processors has been deprecated. Intel oneAPI Math Kernel Library 2025.0 will require Intel(R) Advanced Vector Extensions (Intel(R) AVX) instructions.\n",
      "Intel MKL WARNING: Support of Intel(R) Streaming SIMD Extensions 4.2 (Intel(R) SSE4.2) enabled only processors has been deprecated. Intel oneAPI Math Kernel Library 2025.0 will require Intel(R) Advanced Vector Extensions (Intel(R) AVX) instructions.\n",
      "Intel MKL WARNING: Support of Intel(R) Streaming SIMD Extensions 4.2 (Intel(R) SSE4.2) enabled only processors has been deprecated. Intel oneAPI Math Kernel Library 2025.0 will require Intel(R) Advanced Vector Extensions (Intel(R) AVX) instructions.\n",
      "Intel MKL WARNING: Support of Intel(R) Streaming SIMD Extensions 4.2 (Intel(R) SSE4.2) enabled only processors has been deprecated. Intel oneAPI Math Kernel Library 2025.0 will require Intel(R) Advanced Vector Extensions (Intel(R) AVX) instructions.\n",
      "Intel MKL WARNING: Support of Intel(R) Streaming SIMD Extensions 4.2 (Intel(R) SSE4.2) enabled only processors has been deprecated. Intel oneAPI Math Kernel Library 2025.0 will require Intel(R) Advanced Vector Extensions (Intel(R) AVX) instructions.\n",
      "Intel MKL WARNING: Support of Intel(R) Streaming SIMD Extensions 4.2 (Intel(R) SSE4.2) enabled only processors has been deprecated. Intel oneAPI Math Kernel Library 2025.0 will require Intel(R) Advanced Vector Extensions (Intel(R) AVX) instructions.\n"
     ]
    },
    {
     "data": {
      "text/html": [
       "<table style=\"text-align:center\"><tr><td colspan=\"13\" style=\"border-bottom: 1px solid black\"></td></tr>\n",
       "<tr><td style=\"text-align:left\"></td><tr><td></td><td colspan=\"3\">Dependent var 1: Student Financial Proficiency</td><td colspan=\"3\">Dependent var 2: Intention to save index</td><td colspan=\"3\">Dependent var 3: Negotiates prices or payment methods</td><td colspan=\"3\">Dependent var 4: Has some form of income</td></tr><tr><td style=\"text-align:left\"></td><td>(1)</td><td>(2)</td><td>(3)</td><td>(4)</td><td>(5)</td><td>(6)</td><td>(7)</td><td>(8)</td><td>(9)</td><td>(10)</td><td>(11)</td><td>(12)</td></tr>\n",
       "<tr><td colspan=\"13\" style=\"border-bottom: 1px solid black\"></td></tr>\n",
       "\n",
       "<tr><td style=\"text-align:left\">Intercept</td><td>57.591<sup>***</sup></td><td>59.377<sup>***</sup></td><td>58.860<sup>***</sup></td><td>49.016<sup>***</sup></td><td>46.725<sup>***</sup></td><td>46.603<sup>***</sup></td><td>0.763<sup>***</sup></td><td>0.856<sup>***</sup></td><td>0.855<sup>***</sup></td><td>0.639<sup>***</sup></td><td>0.534<sup>***</sup></td><td>0.609<sup>***</sup></td></tr>\n",
       "<tr><td style=\"text-align:left\"></td><td>(0.187)</td><td>(0.556)</td><td>(0.675)</td><td>(0.240)</td><td>(0.728)</td><td>(0.890)</td><td>(0.006)</td><td>(0.017)</td><td>(0.020)</td><td>(0.006)</td><td>(0.019)</td><td>(0.023)</td></tr>\n",
       "<tr><td style=\"text-align:left\">Failed at least one school year</td><td></td><td>-7.218<sup>***</sup></td><td>-6.652<sup>***</sup></td><td></td><td>-3.614<sup>***</sup></td><td>-3.315<sup>***</sup></td><td></td><td>0.024<sup>***</sup></td><td>0.013<sup></sup></td><td></td><td>0.005<sup></sup></td><td>0.006<sup></sup></td></tr>\n",
       "<tr><td style=\"text-align:left\"></td><td></td><td>(0.288)</td><td>(0.289)</td><td></td><td>(0.377)</td><td>(0.381)</td><td></td><td>(0.009)</td><td>(0.009)</td><td></td><td>(0.010)</td><td>(0.010)</td></tr>\n",
       "<tr><td style=\"text-align:left\">Q(\"family.receives.cash.transfer\")</td><td></td><td></td><td>-1.837<sup>***</sup></td><td></td><td></td><td>-1.189<sup>***</sup></td><td></td><td></td><td>0.028<sup>***</sup></td><td></td><td></td><td>-0.027<sup>***</sup></td></tr>\n",
       "<tr><td style=\"text-align:left\"></td><td></td><td></td><td>(0.283)</td><td></td><td></td><td>(0.374)</td><td></td><td></td><td>(0.009)</td><td></td><td></td><td>(0.010)</td></tr>\n",
       "<tr><td style=\"text-align:left\">Father attended secondary school</td><td></td><td></td><td>0.875<sup>***</sup></td><td></td><td></td><td>-0.213<sup></sup></td><td></td><td></td><td>-0.012<sup></sup></td><td></td><td></td><td>0.021<sup>**</sup></td></tr>\n",
       "<tr><td style=\"text-align:left\"></td><td></td><td></td><td>(0.298)</td><td></td><td></td><td>(0.392)</td><td></td><td></td><td>(0.009)</td><td></td><td></td><td>(0.010)</td></tr>\n",
       "<tr><td style=\"text-align:left\">Has computer with internet at home</td><td></td><td></td><td>-0.505<sup>*</sup></td><td></td><td></td><td>-0.276<sup></sup></td><td></td><td></td><td>0.024<sup>***</sup></td><td></td><td></td><td>-0.035<sup>***</sup></td></tr>\n",
       "<tr><td style=\"text-align:left\"></td><td></td><td></td><td>(0.281)</td><td></td><td></td><td>(0.371)</td><td></td><td></td><td>(0.009)</td><td></td><td></td><td>(0.010)</td></tr>\n",
       "<tr><td style=\"text-align:left\">Female</td><td></td><td></td><td>2.943<sup>***</sup></td><td></td><td></td><td>1.403<sup>***</sup></td><td></td><td></td><td>-0.069<sup>***</sup></td><td></td><td></td><td>-0.051<sup>***</sup></td></tr>\n",
       "<tr><td style=\"text-align:left\"></td><td></td><td></td><td>(0.257)</td><td></td><td></td><td>(0.339)</td><td></td><td></td><td>(0.008)</td><td></td><td></td><td>(0.009)</td></tr>\n",
       "<tr><td style=\"text-align:left\">Q(\"mother.attended.secondary.school\")</td><td></td><td></td><td>0.968<sup>***</sup></td><td></td><td></td><td>1.192<sup>***</sup></td><td></td><td></td><td>0.001<sup></sup></td><td></td><td></td><td>0.013<sup></sup></td></tr>\n",
       "<tr><td style=\"text-align:left\"></td><td></td><td></td><td>(0.295)</td><td></td><td></td><td>(0.388)</td><td></td><td></td><td>(0.009)</td><td></td><td></td><td>(0.010)</td></tr>\n",
       "<tr><td style=\"text-align:left\">school</td><td></td><td>0.000<sup></sup></td><td>-0.000<sup>**</sup></td><td></td><td>0.000<sup>***</sup></td><td>0.000<sup>***</sup></td><td></td><td>-0.000<sup>***</sup></td><td>-0.000<sup>***</sup></td><td></td><td>0.000<sup>***</sup></td><td>0.000<sup>***</sup></td></tr>\n",
       "<tr><td style=\"text-align:left\"></td><td></td><td>(0.000)</td><td>(0.000)</td><td></td><td>(0.000)</td><td>(0.000)</td><td></td><td>(0.000)</td><td>(0.000)</td><td></td><td>(0.000)</td><td>(0.000)</td></tr>\n",
       "<tr><td style=\"text-align:left\">treatment</td><td>4.216<sup>***</sup></td><td>4.392<sup>***</sup></td><td>4.325<sup>***</sup></td><td>-0.070<sup></sup></td><td>-0.005<sup></sup></td><td>-0.032<sup></sup></td><td>0.001<sup></sup></td><td>0.001<sup></sup></td><td>0.003<sup></sup></td><td>0.017<sup>**</sup></td><td>0.016<sup>*</sup></td><td>0.018<sup>**</sup></td></tr>\n",
       "<tr><td style=\"text-align:left\"></td><td>(0.261)</td><td>(0.255)</td><td>(0.253)</td><td>(0.335)</td><td>(0.334)</td><td>(0.333)</td><td>(0.008)</td><td>(0.008)</td><td>(0.008)</td><td>(0.009)</td><td>(0.009)</td><td>(0.009)</td></tr>\n",
       "\n",
       "<td colspan=\"13\" style=\"border-bottom: 1px solid black\"></td></tr>\n",
       "<tr><td style=\"text-align: left\">Observations</td><td>12222</td><td>12222</td><td>12222</td><td>12222</td><td>12222</td><td>12222</td><td>12222</td><td>12222</td><td>12222</td><td>12222</td><td>12222</td><td>12222</td></tr><tr><td style=\"text-align: left\">R<sup>2</sup></td><td>0.021</td><td>0.069</td><td>0.086</td><td>0.000</td><td>0.009</td><td>0.013</td><td>0.000</td><td>0.004</td><td>0.012</td><td>0.000</td><td>0.003</td><td>0.011</td></tr><tr><td style=\"text-align: left\">Adjusted R<sup>2</sup></td><td>0.021</td><td>0.068</td><td>0.085</td><td>-0.000</td><td>0.009</td><td>0.012</td><td>-0.000</td><td>0.004</td><td>0.012</td><td>0.000</td><td>0.003</td><td>0.010</td></tr><tr><td style=\"text-align: left\">Residual Std. Error</td><td>14.432 (df=12220)</td><td>14.076 (df=12218)</td><td>13.949 (df=12213)</td><td>18.506 (df=12220)</td><td>18.421 (df=12218)</td><td>18.393 (df=12213)</td><td>0.425 (df=12220)</td><td>0.424 (df=12218)</td><td>0.423 (df=12213)</td><td>0.478 (df=12220)</td><td>0.477 (df=12218)</td><td>0.475 (df=12213)</td></tr><tr><td style=\"text-align: left\">F Statistic</td><td>260.547<sup>***</sup> (df=1; 12220)</td><td>300.463<sup>***</sup> (df=3; 12218)</td><td>143.315<sup>***</sup> (df=8; 12213)</td><td>0.043<sup></sup> (df=1; 12220)</td><td>38.533<sup>***</sup> (df=3; 12218)</td><td>19.812<sup>***</sup> (df=8; 12213)</td><td>0.018<sup></sup> (df=1; 12220)</td><td>16.352<sup>***</sup> (df=3; 12218)</td><td>18.841<sup>***</sup> (df=8; 12213)</td><td>3.843<sup>**</sup> (df=1; 12220)</td><td>12.839<sup>***</sup> (df=3; 12218)</td><td>16.603<sup>***</sup> (df=8; 12213)</td></tr>\n",
       "<tr><td colspan=\"13\" style=\"border-bottom: 1px solid black\"></td></tr><tr><td style=\"text-align: left\">Note:</td><td colspan=\"12\" style=\"text-align: right\"><sup>*</sup>p&lt;0.1; <sup>**</sup>p&lt;0.05; <sup>***</sup>p&lt;0.01</td></tr></table>"
      ],
      "text/plain": [
       "<stargazer.stargazer.Stargazer at 0x7f8911dc5f70>"
      ]
     },
     "execution_count": 86,
     "metadata": {},
     "output_type": "execute_result"
    }
   ],
   "source": [
    "# Rgeressions with \"Student Financial Proficiency\" as dependet variable\n",
    "ols_score_1      = sm.OLS.from_formula('Q(\"outcome.test.score\") ~ treatment', data=df).fit()\n",
    "ols_score_2      = sm.OLS.from_formula('Q(\"outcome.test.score\") ~ treatment + school + Q(\"failed.at.least.one.school.year\")', data=df).fit()\n",
    "ols_score_3      = sm.OLS.from_formula('Q(\"outcome.test.score\") ~ treatment + school + Q(\"failed.at.least.one.school.year\") + Q(\"is.female\") + Q(\"mother.attended.secondary.school\") + Q(\"father.attened.secondary.school\") + Q(\"family.receives.cash.transfer\") + Q(\"has.computer.with.internet.at.home\")', data=df).fit()\n",
    "\n",
    "# Rgeressions with \"Intention to save index\" as dependet variable\n",
    "ols_saving_1     = sm.OLS.from_formula('Q(\"intention.to.save.index\") ~ treatment', data=df).fit()\n",
    "ols_saving_2     = sm.OLS.from_formula('Q(\"intention.to.save.index\") ~ treatment + school + Q(\"failed.at.least.one.school.year\")', data=df).fit()\n",
    "ols_saving_3     = sm.OLS.from_formula('Q(\"intention.to.save.index\") ~ treatment + school + Q(\"failed.at.least.one.school.year\") + Q(\"is.female\") + Q(\"mother.attended.secondary.school\") + Q(\"father.attened.secondary.school\") + Q(\"family.receives.cash.transfer\") + Q(\"has.computer.with.internet.at.home\")', data=df).fit()\n",
    "\n",
    "# Rgeressions with \"Negotiates prices or payment methods\" as dependet variable\n",
    "ols_negotiates_1 = sm.OLS.from_formula('Q(\"negotiates.prices.or.payment.methods\") ~ treatment', data=df).fit()\n",
    "ols_negotiates_2 = sm.OLS.from_formula('Q(\"negotiates.prices.or.payment.methods\") ~ treatment + school + Q(\"failed.at.least.one.school.year\")', data=df).fit()\n",
    "ols_negotiates_3 = sm.OLS.from_formula('Q(\"negotiates.prices.or.payment.methods\") ~ treatment + school + Q(\"failed.at.least.one.school.year\") + Q(\"is.female\") + Q(\"mother.attended.secondary.school\") + Q(\"father.attened.secondary.school\") + Q(\"family.receives.cash.transfer\") + Q(\"has.computer.with.internet.at.home\")', data=df).fit()\n",
    "\n",
    "# Rgeressions with \"Has some form of income\" as dependet variable\n",
    "ols_manage_1     = sm.OLS.from_formula('Q(\"has.some.form.of.income\") ~ treatment', data=df).fit()\n",
    "ols_manage_2     = sm.OLS.from_formula('Q(\"has.some.form.of.income\") ~ treatment + school + Q(\"failed.at.least.one.school.year\")', data=df).fit()\n",
    "ols_manage_3     = sm.OLS.from_formula('Q(\"has.some.form.of.income\") ~ treatment + school + Q(\"failed.at.least.one.school.year\") + Q(\"is.female\") + Q(\"mother.attended.secondary.school\") + Q(\"father.attened.secondary.school\") + Q(\"family.receives.cash.transfer\") + Q(\"has.computer.with.internet.at.home\")', data=df).fit()\n",
    "\n",
    "# Show parameters in table\n",
    "st = Stargazer([ols_score_1, ols_score_2, ols_score_3, ols_saving_1, ols_saving_2, ols_saving_3, ols_negotiates_1, ols_negotiates_2, ols_negotiates_3, ols_manage_1, ols_manage_2, ols_manage_3])\n",
    "st.custom_columns([\"Dependent var 1: Student Financial Proficiency\", \"Dependent var 2: Intention to save index\", \"Dependent var 3: Negotiates prices or payment methods\", \"Dependent var 4: Has some form of income\"], [3, 3, 3, 3])\n",
    "st.rename_covariates({'Q(\"failed.at.least.one.school.year\")': 'Failed at least one school year', 'Q(\"is.female\")': 'Female', 'Q(\"father.attened.secondary.school\")': 'Father attended secondary school', 'Q(\"Family.receives.cash.transfer\")': 'Family receives cash transfer', 'Q(\"has.computer.with.internet.at.home\")': 'Has computer with internet at home'})\n",
    "st"
   ]
  },
  {
   "cell_type": "code",
   "execution_count": 87,
   "metadata": {},
   "outputs": [],
   "source": [
    "# Save the ITT beta and the confidence intervals\n",
    "beta_OLS = ols_score_3.params['treatment']\n",
    "conf_int_OLS = ols_score_3.conf_int().loc['treatment']"
   ]
  },
  {
   "cell_type": "markdown",
   "metadata": {},
   "source": [
    "##### b. Double Lasso using cross validation"
   ]
  },
  {
   "cell_type": "markdown",
   "metadata": {},
   "source": [
    "We use the first dependent variable (Student Financial Proficiency)"
   ]
  },
  {
   "cell_type": "markdown",
   "metadata": {},
   "source": [
    "Step 1: We ran Lasso regression of _Y_ (student financial proficiency) on _X_, and _T_ (treatment) on _X_"
   ]
  },
  {
   "cell_type": "code",
   "execution_count": 88,
   "metadata": {},
   "outputs": [
    {
     "name": "stdout",
     "output_type": "stream",
     "text": [
      "Intel MKL WARNING: Support of Intel(R) Streaming SIMD Extensions 4.2 (Intel(R) SSE4.2) enabled only processors has been deprecated. Intel oneAPI Math Kernel Library 2025.0 will require Intel(R) Advanced Vector Extensions (Intel(R) AVX) instructions.\n",
      "Intel MKL WARNING: Support of Intel(R) Streaming SIMD Extensions 4.2 (Intel(R) SSE4.2) enabled only processors has been deprecated. Intel oneAPI Math Kernel Library 2025.0 will require Intel(R) Advanced Vector Extensions (Intel(R) AVX) instructions.\n",
      "Intel MKL WARNING: Support of Intel(R) Streaming SIMD Extensions 4.2 (Intel(R) SSE4.2) enabled only processors has been deprecated. Intel oneAPI Math Kernel Library 2025.0 will require Intel(R) Advanced Vector Extensions (Intel(R) AVX) instructions.\n",
      "Intel MKL WARNING: Support of Intel(R) Streaming SIMD Extensions 4.2 (Intel(R) SSE4.2) enabled only processors has been deprecated. Intel oneAPI Math Kernel Library 2025.0 will require Intel(R) Advanced Vector Extensions (Intel(R) AVX) instructions.\n",
      "Intel MKL WARNING: Support of Intel(R) Streaming SIMD Extensions 4.2 (Intel(R) SSE4.2) enabled only processors has been deprecated. Intel oneAPI Math Kernel Library 2025.0 will require Intel(R) Advanced Vector Extensions (Intel(R) AVX) instructions.\n",
      "Intel MKL WARNING: Support of Intel(R) Streaming SIMD Extensions 4.2 (Intel(R) SSE4.2) enabled only processors has been deprecated. Intel oneAPI Math Kernel Library 2025.0 will require Intel(R) Advanced Vector Extensions (Intel(R) AVX) instructions.\n",
      "Intel MKL WARNING: Support of Intel(R) Streaming SIMD Extensions 4.2 (Intel(R) SSE4.2) enabled only processors has been deprecated. Intel oneAPI Math Kernel Library 2025.0 will require Intel(R) Advanced Vector Extensions (Intel(R) AVX) instructions.\n",
      "Intel MKL WARNING: Support of Intel(R) Streaming SIMD Extensions 4.2 (Intel(R) SSE4.2) enabled only processors has been deprecated. Intel oneAPI Math Kernel Library 2025.0 will require Intel(R) Advanced Vector Extensions (Intel(R) AVX) instructions.\n",
      "Intel MKL WARNING: Support of Intel(R) Streaming SIMD Extensions 4.2 (Intel(R) SSE4.2) enabled only processors has been deprecated. Intel oneAPI Math Kernel Library 2025.0 will require Intel(R) Advanced Vector Extensions (Intel(R) AVX) instructions.\n",
      "Intel MKL WARNING: Support of Intel(R) Streaming SIMD Extensions 4.2 (Intel(R) SSE4.2) enabled only processors has been deprecated. Intel oneAPI Math Kernel Library 2025.0 will require Intel(R) Advanced Vector Extensions (Intel(R) AVX) instructions.\n",
      "Mejor lambda: 0.0001\n"
     ]
    }
   ],
   "source": [
    "lasso_CV_yX = LassoCV(alphas = np.arange(0.0001, 0.5, 0.001), cv = 10, max_iter = 5000)\n",
    "lasso_CV_yX.fit(X_train_scaled, y_train['outcome.test.score'])\n",
    "\n",
    "lasso_CV_lambda = lasso_CV_yX.alpha_\n",
    "print(f\"Mejor lambda: {lasso_CV_lambda:.4f}\")"
   ]
  },
  {
   "cell_type": "code",
   "execution_count": 89,
   "metadata": {},
   "outputs": [],
   "source": [
    "# Estimate y predictions with all X\n",
    "y_pred_yX = lasso_CV_yX.predict(X_scaled)"
   ]
  },
  {
   "cell_type": "code",
   "execution_count": 90,
   "metadata": {},
   "outputs": [
    {
     "name": "stdout",
     "output_type": "stream",
     "text": [
      "Intel MKL WARNING: Support of Intel(R) Streaming SIMD Extensions 4.2 (Intel(R) SSE4.2) enabled only processors has been deprecated. Intel oneAPI Math Kernel Library 2025.0 will require Intel(R) Advanced Vector Extensions (Intel(R) AVX) instructions.\n",
      "Intel MKL WARNING: Support of Intel(R) Streaming SIMD Extensions 4.2 (Intel(R) SSE4.2) enabled only processors has been deprecated. Intel oneAPI Math Kernel Library 2025.0 will require Intel(R) Advanced Vector Extensions (Intel(R) AVX) instructions.\n",
      "Intel MKL WARNING: Support of Intel(R) Streaming SIMD Extensions 4.2 (Intel(R) SSE4.2) enabled only processors has been deprecated. Intel oneAPI Math Kernel Library 2025.0 will require Intel(R) Advanced Vector Extensions (Intel(R) AVX) instructions.\n",
      "Intel MKL WARNING: Support of Intel(R) Streaming SIMD Extensions 4.2 (Intel(R) SSE4.2) enabled only processors has been deprecated. Intel oneAPI Math Kernel Library 2025.0 will require Intel(R) Advanced Vector Extensions (Intel(R) AVX) instructions.\n",
      "Intel MKL WARNING: Support of Intel(R) Streaming SIMD Extensions 4.2 (Intel(R) SSE4.2) enabled only processors has been deprecated. Intel oneAPI Math Kernel Library 2025.0 will require Intel(R) Advanced Vector Extensions (Intel(R) AVX) instructions.\n",
      "Intel MKL WARNING: Support of Intel(R) Streaming SIMD Extensions 4.2 (Intel(R) SSE4.2) enabled only processors has been deprecated. Intel oneAPI Math Kernel Library 2025.0 will require Intel(R) Advanced Vector Extensions (Intel(R) AVX) instructions.\n",
      "Intel MKL WARNING: Support of Intel(R) Streaming SIMD Extensions 4.2 (Intel(R) SSE4.2) enabled only processors has been deprecated. Intel oneAPI Math Kernel Library 2025.0 will require Intel(R) Advanced Vector Extensions (Intel(R) AVX) instructions.\n",
      "Intel MKL WARNING: Support of Intel(R) Streaming SIMD Extensions 4.2 (Intel(R) SSE4.2) enabled only processors has been deprecated. Intel oneAPI Math Kernel Library 2025.0 will require Intel(R) Advanced Vector Extensions (Intel(R) AVX) instructions.\n",
      "Intel MKL WARNING: Support of Intel(R) Streaming SIMD Extensions 4.2 (Intel(R) SSE4.2) enabled only processors has been deprecated. Intel oneAPI Math Kernel Library 2025.0 will require Intel(R) Advanced Vector Extensions (Intel(R) AVX) instructions.\n",
      "Intel MKL WARNING: Support of Intel(R) Streaming SIMD Extensions 4.2 (Intel(R) SSE4.2) enabled only processors has been deprecated. Intel oneAPI Math Kernel Library 2025.0 will require Intel(R) Advanced Vector Extensions (Intel(R) AVX) instructions.\n",
      "Mejor lambda: 0.0011\n"
     ]
    }
   ],
   "source": [
    "lasso_CV_TX = LassoCV(alphas = np.arange(0.0001, 0.5, 0.001), cv = 10, max_iter = 5000)\n",
    "lasso_CV_TX.fit(X_train_scaled, T_train)\n",
    "y_pred = lasso_CV_TX.predict(X_test_scaled)\n",
    "\n",
    "lasso_CV_lambda = lasso_CV_TX.alpha_\n",
    "print(f\"Mejor lambda: {lasso_CV_lambda:.4f}\")"
   ]
  },
  {
   "cell_type": "code",
   "execution_count": 91,
   "metadata": {},
   "outputs": [],
   "source": [
    "# Estimate T predictions with all X\n",
    "y_pred_TX = lasso_CV_TX.predict(X_scaled)"
   ]
  },
  {
   "cell_type": "markdown",
   "metadata": {},
   "source": [
    "Step 2: Obtain the resulting residuals"
   ]
  },
  {
   "cell_type": "code",
   "execution_count": 92,
   "metadata": {},
   "outputs": [],
   "source": [
    "res_yX = y['outcome.test.score'] - y_pred_yX\n",
    "res_TX = T - y_pred_TX"
   ]
  },
  {
   "cell_type": "markdown",
   "metadata": {},
   "source": [
    "Step 3: We run the least squares of res_yX on res_TX"
   ]
  },
  {
   "cell_type": "code",
   "execution_count": 93,
   "metadata": {},
   "outputs": [
    {
     "name": "stdout",
     "output_type": "stream",
     "text": [
      "Intel MKL WARNING: Support of Intel(R) Streaming SIMD Extensions 4.2 (Intel(R) SSE4.2) enabled only processors has been deprecated. Intel oneAPI Math Kernel Library 2025.0 will require Intel(R) Advanced Vector Extensions (Intel(R) AVX) instructions.\n"
     ]
    },
    {
     "data": {
      "text/html": [
       "<table style=\"text-align:center\"><tr><td colspan=\"2\" style=\"border-bottom: 1px solid black\"></td></tr>\n",
       "<tr><td style=\"text-align:left\"></td><td colspan=\"1\"><em>Dependent variable: res_yX</em></td></tr><tr><td style=\"text-align:left\"></td><tr><td style=\"text-align:left\"></td><td>(1)</td></tr>\n",
       "<tr><td colspan=\"2\" style=\"border-bottom: 1px solid black\"></td></tr>\n",
       "\n",
       "<tr><td style=\"text-align:left\">Intercept</td><td>0.033<sup></sup></td></tr>\n",
       "<tr><td style=\"text-align:left\"></td><td>(0.126)</td></tr>\n",
       "<tr><td style=\"text-align:left\">res_TX</td><td>4.324<sup>***</sup></td></tr>\n",
       "<tr><td style=\"text-align:left\"></td><td>(0.253)</td></tr>\n",
       "\n",
       "<td colspan=\"2\" style=\"border-bottom: 1px solid black\"></td></tr>\n",
       "<tr><td style=\"text-align: left\">Observations</td><td>12222</td></tr><tr><td style=\"text-align: left\">R<sup>2</sup></td><td>0.023</td></tr><tr><td style=\"text-align: left\">Adjusted R<sup>2</sup></td><td>0.023</td></tr><tr><td style=\"text-align: left\">Residual Std. Error</td><td>13.945 (df=12220)</td></tr><tr><td style=\"text-align: left\">F Statistic</td><td>292.956<sup>***</sup> (df=1; 12220)</td></tr>\n",
       "<tr><td colspan=\"2\" style=\"border-bottom: 1px solid black\"></td></tr><tr><td style=\"text-align: left\">Note:</td><td colspan=\"1\" style=\"text-align: right\"><sup>*</sup>p&lt;0.1; <sup>**</sup>p&lt;0.05; <sup>***</sup>p&lt;0.01</td></tr></table>"
      ],
      "text/plain": [
       "<stargazer.stargazer.Stargazer at 0x7f89223d7fd0>"
      ]
     },
     "execution_count": 93,
     "metadata": {},
     "output_type": "execute_result"
    }
   ],
   "source": [
    "ols_score_b = sm.OLS.from_formula('res_yX ~ res_TX', data=df).fit()\n",
    "\n",
    "# Show parameters in table\n",
    "st = Stargazer([ols_score_b])\n",
    "st"
   ]
  },
  {
   "cell_type": "code",
   "execution_count": 94,
   "metadata": {},
   "outputs": [],
   "source": [
    "# Save the ITT beta and the confidence intervals\n",
    "beta_DL_CV = ols_score_b.params['res_TX']\n",
    "conf_int_DL_CV = ols_score_b.conf_int().loc['res_TX']"
   ]
  },
  {
   "cell_type": "markdown",
   "metadata": {},
   "source": [
    "##### c. Double Lasso using theoretical lambda"
   ]
  },
  {
   "cell_type": "code",
   "execution_count": 95,
   "metadata": {},
   "outputs": [],
   "source": [
    "# !pip install multiprocess\n",
    "# !pip install pyreadr\n",
    "# !git clone https://github.com/maxhuppertz/hdmpy.git"
   ]
  },
  {
   "cell_type": "code",
   "execution_count": 96,
   "metadata": {},
   "outputs": [],
   "source": [
    "import sys\n",
    "sys.path.insert(1, \"./hdmpy\")"
   ]
  },
  {
   "cell_type": "code",
   "execution_count": 97,
   "metadata": {},
   "outputs": [],
   "source": [
    "# We wrap the package so that it has the familiar sklearn API\n",
    "import hdmpy\n",
    "from sklearn.base import BaseEstimator, clone\n",
    "\n",
    "class RLasso(BaseEstimator):\n",
    "\n",
    "    def __init__(self, *, post=True):\n",
    "        self.post = post\n",
    "\n",
    "    def fit(self, X, y):\n",
    "        self.rlasso_ = hdmpy.rlasso(X, y, post=self.post)\n",
    "        return self\n",
    "\n",
    "    def predict(self, X):\n",
    "        return np.array(X) @ np.array(self.rlasso_.est['beta']).flatten() + np.array(self.rlasso_.est['intercept'])\n",
    "\n",
    "    def nsel(self):\n",
    "        return sum(abs(np.array(self.rlasso_.est['beta']).flatten()>0))\n",
    "\n",
    "lasso_model = lambda: RLasso(post=False)"
   ]
  },
  {
   "cell_type": "markdown",
   "metadata": {},
   "source": [
    "Step 1:"
   ]
  },
  {
   "cell_type": "code",
   "execution_count": 98,
   "metadata": {},
   "outputs": [
    {
     "name": "stdout",
     "output_type": "stream",
     "text": [
      "Intel MKL WARNING: Support of Intel(R) Streaming SIMD Extensions 4.2 (Intel(R) SSE4.2) enabled only processors has been deprecated. Intel oneAPI Math Kernel Library 2025.0 will require Intel(R) Advanced Vector Extensions (Intel(R) AVX) instructions.\n",
      "Intel MKL WARNING: Support of Intel(R) Streaming SIMD Extensions 4.2 (Intel(R) SSE4.2) enabled only processors has been deprecated. Intel oneAPI Math Kernel Library 2025.0 will require Intel(R) Advanced Vector Extensions (Intel(R) AVX) instructions.\n",
      "Intel MKL WARNING: Support of Intel(R) Streaming SIMD Extensions 4.2 (Intel(R) SSE4.2) enabled only processors has been deprecated. Intel oneAPI Math Kernel Library 2025.0 will require Intel(R) Advanced Vector Extensions (Intel(R) AVX) instructions.\n",
      "Intel MKL WARNING: Support of Intel(R) Streaming SIMD Extensions 4.2 (Intel(R) SSE4.2) enabled only processors has been deprecated. Intel oneAPI Math Kernel Library 2025.0 will require Intel(R) Advanced Vector Extensions (Intel(R) AVX) instructions.\n"
     ]
    }
   ],
   "source": [
    "# Estimate y predictions with all X\n",
    "y_pred_yX = lasso_model().fit(X_scaled, y['outcome.test.score']).predict(X_scaled)"
   ]
  },
  {
   "cell_type": "code",
   "execution_count": 99,
   "metadata": {},
   "outputs": [
    {
     "name": "stdout",
     "output_type": "stream",
     "text": [
      "Intel MKL WARNING: Support of Intel(R) Streaming SIMD Extensions 4.2 (Intel(R) SSE4.2) enabled only processors has been deprecated. Intel oneAPI Math Kernel Library 2025.0 will require Intel(R) Advanced Vector Extensions (Intel(R) AVX) instructions.\n",
      "Intel MKL WARNING: Support of Intel(R) Streaming SIMD Extensions 4.2 (Intel(R) SSE4.2) enabled only processors has been deprecated. Intel oneAPI Math Kernel Library 2025.0 will require Intel(R) Advanced Vector Extensions (Intel(R) AVX) instructions.\n",
      "Intel MKL WARNING: Support of Intel(R) Streaming SIMD Extensions 4.2 (Intel(R) SSE4.2) enabled only processors has been deprecated. Intel oneAPI Math Kernel Library 2025.0 will require Intel(R) Advanced Vector Extensions (Intel(R) AVX) instructions.\n",
      "Intel MKL WARNING: Support of Intel(R) Streaming SIMD Extensions 4.2 (Intel(R) SSE4.2) enabled only processors has been deprecated. Intel oneAPI Math Kernel Library 2025.0 will require Intel(R) Advanced Vector Extensions (Intel(R) AVX) instructions.\n"
     ]
    }
   ],
   "source": [
    "# Estimate T predictions with all X\n",
    "y_pred_TX = lasso_model().fit(X_scaled, T).predict(X_scaled)"
   ]
  },
  {
   "cell_type": "markdown",
   "metadata": {},
   "source": [
    "Step 2:"
   ]
  },
  {
   "cell_type": "code",
   "execution_count": 100,
   "metadata": {},
   "outputs": [],
   "source": [
    "res_yX = y['outcome.test.score'] - y_pred_yX\n",
    "res_TX = T - y_pred_TX"
   ]
  },
  {
   "cell_type": "markdown",
   "metadata": {},
   "source": [
    "Step 3:"
   ]
  },
  {
   "cell_type": "code",
   "execution_count": 101,
   "metadata": {},
   "outputs": [
    {
     "name": "stdout",
     "output_type": "stream",
     "text": [
      "Intel MKL WARNING: Support of Intel(R) Streaming SIMD Extensions 4.2 (Intel(R) SSE4.2) enabled only processors has been deprecated. Intel oneAPI Math Kernel Library 2025.0 will require Intel(R) Advanced Vector Extensions (Intel(R) AVX) instructions.\n"
     ]
    },
    {
     "data": {
      "text/html": [
       "<table style=\"text-align:center\"><tr><td colspan=\"2\" style=\"border-bottom: 1px solid black\"></td></tr>\n",
       "<tr><td style=\"text-align:left\"></td><td colspan=\"1\"><em>Dependent variable: res_yX</em></td></tr><tr><td style=\"text-align:left\"></td><tr><td style=\"text-align:left\"></td><td>(1)</td></tr>\n",
       "<tr><td colspan=\"2\" style=\"border-bottom: 1px solid black\"></td></tr>\n",
       "\n",
       "<tr><td style=\"text-align:left\">Intercept</td><td>0.000<sup></sup></td></tr>\n",
       "<tr><td style=\"text-align:left\"></td><td>(0.126)</td></tr>\n",
       "<tr><td style=\"text-align:left\">res_TX</td><td>4.316<sup>***</sup></td></tr>\n",
       "<tr><td style=\"text-align:left\"></td><td>(0.253)</td></tr>\n",
       "\n",
       "<td colspan=\"2\" style=\"border-bottom: 1px solid black\"></td></tr>\n",
       "<tr><td style=\"text-align: left\">Observations</td><td>12222</td></tr><tr><td style=\"text-align: left\">R<sup>2</sup></td><td>0.023</td></tr><tr><td style=\"text-align: left\">Adjusted R<sup>2</sup></td><td>0.023</td></tr><tr><td style=\"text-align: left\">Residual Std. Error</td><td>13.953 (df=12220)</td></tr><tr><td style=\"text-align: left\">F Statistic</td><td>291.837<sup>***</sup> (df=1; 12220)</td></tr>\n",
       "<tr><td colspan=\"2\" style=\"border-bottom: 1px solid black\"></td></tr><tr><td style=\"text-align: left\">Note:</td><td colspan=\"1\" style=\"text-align: right\"><sup>*</sup>p&lt;0.1; <sup>**</sup>p&lt;0.05; <sup>***</sup>p&lt;0.01</td></tr></table>"
      ],
      "text/plain": [
       "<stargazer.stargazer.Stargazer at 0x7f89223d7c10>"
      ]
     },
     "execution_count": 101,
     "metadata": {},
     "output_type": "execute_result"
    }
   ],
   "source": [
    "lasso_hdm_score = sm.OLS.from_formula('res_yX ~ res_TX', data=df).fit()\n",
    "\n",
    "# Show parameters in table\n",
    "st = Stargazer([lasso_hdm_score])\n",
    "st"
   ]
  },
  {
   "cell_type": "code",
   "execution_count": 102,
   "metadata": {},
   "outputs": [],
   "source": [
    "# Save the ITT beta and the confidence intervals\n",
    "beta_DL_theo = lasso_hdm_score.params['res_TX']\n",
    "conf_int_DL_theo = lasso_hdm_score.conf_int().loc['res_TX']"
   ]
  },
  {
   "cell_type": "markdown",
   "metadata": {},
   "source": [
    "##### d. Double Lasso using partialling out method"
   ]
  },
  {
   "cell_type": "code",
   "execution_count": 103,
   "metadata": {},
   "outputs": [
    {
     "name": "stdout",
     "output_type": "stream",
     "text": [
      "Intel MKL WARNING: Support of Intel(R) Streaming SIMD Extensions 4.2 (Intel(R) SSE4.2) enabled only processors has been deprecated. Intel oneAPI Math Kernel Library 2025.0 will require Intel(R) Advanced Vector Extensions (Intel(R) AVX) instructions.\n",
      "Intel MKL WARNING: Support of Intel(R) Streaming SIMD Extensions 4.2 (Intel(R) SSE4.2) enabled only processors has been deprecated. Intel oneAPI Math Kernel Library 2025.0 will require Intel(R) Advanced Vector Extensions (Intel(R) AVX) instructions.\n",
      "Intel MKL WARNING: Support of Intel(R) Streaming SIMD Extensions 4.2 (Intel(R) SSE4.2) enabled only processors has been deprecated. Intel oneAPI Math Kernel Library 2025.0 will require Intel(R) Advanced Vector Extensions (Intel(R) AVX) instructions.\n",
      "Intel MKL WARNING: Support of Intel(R) Streaming SIMD Extensions 4.2 (Intel(R) SSE4.2) enabled only processors has been deprecated. Intel oneAPI Math Kernel Library 2025.0 will require Intel(R) Advanced Vector Extensions (Intel(R) AVX) instructions.\n",
      "Intel MKL WARNING: Support of Intel(R) Streaming SIMD Extensions 4.2 (Intel(R) SSE4.2) enabled only processors has been deprecated. Intel oneAPI Math Kernel Library 2025.0 will require Intel(R) Advanced Vector Extensions (Intel(R) AVX) instructions.\n",
      "Intel MKL WARNING: Support of Intel(R) Streaming SIMD Extensions 4.2 (Intel(R) SSE4.2) enabled only processors has been deprecated. Intel oneAPI Math Kernel Library 2025.0 will require Intel(R) Advanced Vector Extensions (Intel(R) AVX) instructions.\n",
      "Intel MKL WARNING: Support of Intel(R) Streaming SIMD Extensions 4.2 (Intel(R) SSE4.2) enabled only processors has been deprecated. Intel oneAPI Math Kernel Library 2025.0 will require Intel(R) Advanced Vector Extensions (Intel(R) AVX) instructions.\n",
      "Intel MKL WARNING: Support of Intel(R) Streaming SIMD Extensions 4.2 (Intel(R) SSE4.2) enabled only processors has been deprecated. Intel oneAPI Math Kernel Library 2025.0 will require Intel(R) Advanced Vector Extensions (Intel(R) AVX) instructions.\n",
      "Intel MKL WARNING: Support of Intel(R) Streaming SIMD Extensions 4.2 (Intel(R) SSE4.2) enabled only processors has been deprecated. Intel oneAPI Math Kernel Library 2025.0 will require Intel(R) Advanced Vector Extensions (Intel(R) AVX) instructions.\n",
      "Intel MKL WARNING: Support of Intel(R) Streaming SIMD Extensions 4.2 (Intel(R) SSE4.2) enabled only processors has been deprecated. Intel oneAPI Math Kernel Library 2025.0 will require Intel(R) Advanced Vector Extensions (Intel(R) AVX) instructions.\n",
      "Intel MKL WARNING: Support of Intel(R) Streaming SIMD Extensions 4.2 (Intel(R) SSE4.2) enabled only processors has been deprecated. Intel oneAPI Math Kernel Library 2025.0 will require Intel(R) Advanced Vector Extensions (Intel(R) AVX) instructions.\n"
     ]
    }
   ],
   "source": [
    "rlassoEffect = hdmpy.rlassoEffect(X_scaled, y['outcome.test.score'], T, method='partialling out')"
   ]
  },
  {
   "cell_type": "code",
   "execution_count": 104,
   "metadata": {},
   "outputs": [
    {
     "data": {
      "text/plain": [
       "{'alpha': 4.313441,\n",
       " 'se': array([0.25271166]),\n",
       " 't': array([17.06862565]),\n",
       " 'pval': array([2.54111627e-65]),\n",
       " 'coefficients': 4.313441,\n",
       " 'coefficient': 4.313441,\n",
       " 'coefficients_reg':                      0\n",
       " (Intercept)  59.769260\n",
       " x0            0.000000\n",
       " x1            1.511205\n",
       " x2            0.529423\n",
       " x3            0.461196\n",
       " x4           -2.878027\n",
       " x5           -0.857569\n",
       " x6            0.000000,\n",
       " 'selection_index': array([[False],\n",
       "        [ True],\n",
       "        [ True],\n",
       "        [ True],\n",
       "        [ True],\n",
       "        [ True],\n",
       "        [False]]),\n",
       " 'residuals': {'epsilon': array([[-10.04200277],\n",
       "         [-31.30841071],\n",
       "         [-15.13769394],\n",
       "         ...,\n",
       "         [-17.22383794],\n",
       "         [ -3.93047339],\n",
       "         [ -4.88461742]]),\n",
       "  'v': array([[ 0.48682705],\n",
       "         [-0.513173  ],\n",
       "         [ 0.48682705],\n",
       "         ...,\n",
       "         [ 0.48682705],\n",
       "         [-0.513173  ],\n",
       "         [-0.513173  ]], dtype=float32)},\n",
       " 'samplesize': 12222}"
      ]
     },
     "execution_count": 104,
     "metadata": {},
     "output_type": "execute_result"
    }
   ],
   "source": [
    "rlassoEffect"
   ]
  },
  {
   "cell_type": "code",
   "execution_count": 115,
   "metadata": {},
   "outputs": [],
   "source": [
    "beta_part_out = rlassoEffect['coefficient']"
   ]
  },
  {
   "cell_type": "code",
   "execution_count": 121,
   "metadata": {},
   "outputs": [],
   "source": [
    "critical_value = 1.96  # For 95% confidence level\n",
    "\n",
    "conf_int_part_out = [beta_part_out - critical_value * rlassoEffect['se'], \\\n",
    "                     beta_part_out + critical_value * rlassoEffect['se']]"
   ]
  },
  {
   "cell_type": "markdown",
   "metadata": {},
   "source": [
    "#### Results"
   ]
  },
  {
   "cell_type": "markdown",
   "metadata": {},
   "source": [
    "We found that the intention to treat effect (ITT) is very similar estimating with all 4 models (aproximately 4.3, with 95% of confidence). This could be because the ratio between the parameters and the number of observations p/n is small (8/12222 = 0.00065455735). In other words, we are not dealing with high dimensional data and the models from b. to d. will outperform the OLS when we are in the opposite scenario. In conclusion, we can say that the OLS model estimates the ITT just as good as the other models."
   ]
  },
  {
   "cell_type": "code",
   "execution_count": 123,
   "metadata": {},
   "outputs": [
    {
     "data": {
      "image/png": "[encoded data removed]",
      "text/plain": [
       "<Figure size 800x600 with 1 Axes>"
      ]
     },
     "metadata": {},
     "output_type": "display_data"
    }
   ],
   "source": [
    "# Plotting the effect size with confidence intervals\n",
    "plt.figure(figsize=(8, 6))\n",
    "plt.errorbar('OLS', beta_OLS, yerr=np.array([beta_OLS - conf_int_OLS[0], conf_int_OLS[1] - beta_OLS]).reshape(2, 1), \n",
    "             fmt='o', color='black', capsize=5)\n",
    "plt.errorbar('Double Lasso with CV', beta_DL_CV, yerr=np.array([beta_DL_CV - conf_int_DL_CV[0], conf_int_DL_CV[1] - beta_DL_CV]).reshape(2, 1), \n",
    "             fmt='o', color='black', capsize=5)\n",
    "plt.errorbar('Double Lasso with theoretical lambda', beta_DL_theo, yerr=np.array([beta_DL_theo - conf_int_DL_theo[0], conf_int_DL_theo[1] - beta_DL_theo]).reshape(2, 1), \n",
    "             fmt='o', color='black', capsize=5)\n",
    "plt.errorbar('Double Lasso with partialling out', beta_part_out, yerr=np.array([beta_part_out - conf_int_part_out[0], conf_int_part_out[1] - beta_part_out]).reshape(2, 1), \n",
    "             fmt='o', color='black', capsize=5)\n",
    "plt.title('Intention to treat effect on Student Financial Proficiency')\n",
    "plt.ylabel('Beta and cofidence interval')\n",
    "plt.xticks(rotation=45)\n",
    "\n",
    "plt.show()"
   ]
  }
 ],
 "metadata": {
  "kernelspec": {
   "display_name": "Python 3 (ipykernel)",
   "language": "python",
   "name": "python3"
  },
  "language_info": {
   "codemirror_mode": {
    "name": "ipython",
    "version": 3
   },
   "file_extension": ".py",
   "mimetype": "text/x-python",
   "name": "python",
   "nbconvert_exporter": "python",
   "pygments_lexer": "ipython3",
   "version": "3.12.2"
  }
 },
 "nbformat": 4,
 "nbformat_minor": 2
}