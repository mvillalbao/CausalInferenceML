{
 "cells": [
  {
   "cell_type": "markdown",
   "metadata": {},
   "source": [
    "# Lab 5 - R Code"
   ]
  },
  {
   "cell_type": "markdown",
   "metadata": {},
   "source": [
    "Authors: Valerie Dube, Erzo Garay, Juan Marcos Guerrero y Matias Villalba"
   ]
  },
  {
   "cell_type": "markdown",
   "metadata": {},
   "source": [
    "## Replication and Data analysis"
   ]
  },
  {
   "cell_type": "code",
   "execution_count": 1,
   "metadata": {
    "vscode": {
     "languageId": "r"
    }
   },
   "outputs": [
    {
     "name": "stderr",
     "output_type": "stream",
     "text": [
      "randomForest 4.7-1.1\n",
      "\n"
     ]
    },
    {
     "name": "stderr",
     "output_type": "stream",
     "text": [
      "Type rfNews() to see new features/changes/bug fixes.\n",
      "\n"
     ]
    },
    {
     "name": "stderr",
     "output_type": "stream",
     "text": [
      "Loading required package: Matrix\n",
      "\n"
     ]
    },
    {
     "name": "stderr",
     "output_type": "stream",
     "text": [
      "Loaded glmnet 4.1-8\n",
      "\n"
     ]
    },
    {
     "name": "stderr",
     "output_type": "stream",
     "text": [
      "Loaded gbm 2.2.2\n",
      "\n"
     ]
    },
    {
     "name": "stderr",
     "output_type": "stream",
     "text": [
      "This version of gbm is no longer under development. Consider transitioning to gbm3, https://github.com/gbm-developers/gbm3\n",
      "\n"
     ]
    },
    {
     "name": "stderr",
     "output_type": "stream",
     "text": [
      "\n",
      "Attaching package: 'ggplot2'\n",
      "\n",
      "\n"
     ]
    },
    {
     "name": "stderr",
     "output_type": "stream",
     "text": [
      "The following object is masked from 'package:randomForest':\n",
      "\n",
      "    margin\n",
      "\n",
      "\n"
     ]
    }
   ],
   "source": [
    "library(hdm)\n",
    "library(xtable)\n",
    "library(randomForest)\n",
    "library(glmnet)\n",
    "library(sandwich)\n",
    "library(rpart)\n",
    "library(nnet)\n",
    "library(gbm)\n",
    "library(rpart.plot)\n",
    "library(keras)\n",
    "library(xtable)\n",
    "library(glmnet)\n",
    "library(randomForest)\n",
    "library(ggplot2)"
   ]
  },
  {
   "cell_type": "code",
   "execution_count": 2,
   "metadata": {
    "vscode": {
     "languageId": "r"
    }
   },
   "outputs": [],
   "source": [
    "set.seed(1)\n",
    "rm(list = ls())"
   ]
  },
  {
   "cell_type": "code",
   "execution_count": 3,
   "metadata": {
    "vscode": {
     "languageId": "r"
    }
   },
   "outputs": [
    {
     "name": "stderr",
     "output_type": "stream",
     "text": [
      " cobalt (Version 4.5.5, Build Date: 2024-04-02)\n",
      "\n"
     ]
    }
   ],
   "source": [
    "library(ggplot2)\n",
    "library(WeightIt)\n",
    "library(cobalt)"
   ]
  },
  {
   "cell_type": "markdown",
   "metadata": {},
   "source": [
    "### 1. Descriptives"
   ]
  },
  {
   "cell_type": "markdown",
   "metadata": {},
   "source": [
    "#### 1.1. Descriptive table (vale)"
   ]
  },
  {
   "cell_type": "code",
   "execution_count": 4,
   "metadata": {
    "vscode": {
     "languageId": "r"
    }
   },
   "outputs": [
    {
     "data": {
      "text/html": [
       "<table class=\"dataframe\">\n",
       "<caption>A data.frame: 6 × 15</caption>\n",
       "<thead>\n",
       "\t<tr><th></th><th scope=col>y</th><th scope=col>w</th><th scope=col>gender_female</th><th scope=col>gender_male</th><th scope=col>gender_transgender</th><th scope=col>ethnicgrp_asian</th><th scope=col>ethnicgrp_black</th><th scope=col>ethnicgrp_mixed_multiple</th><th scope=col>ethnicgrp_other</th><th scope=col>ethnicgrp_white</th><th scope=col>partners1</th><th scope=col>postlaunch</th><th scope=col>msm</th><th scope=col>age</th><th scope=col>imd_decile</th></tr>\n",
       "\t<tr><th></th><th scope=col>&lt;int&gt;</th><th scope=col>&lt;int&gt;</th><th scope=col>&lt;int&gt;</th><th scope=col>&lt;int&gt;</th><th scope=col>&lt;int&gt;</th><th scope=col>&lt;int&gt;</th><th scope=col>&lt;int&gt;</th><th scope=col>&lt;int&gt;</th><th scope=col>&lt;int&gt;</th><th scope=col>&lt;int&gt;</th><th scope=col>&lt;int&gt;</th><th scope=col>&lt;int&gt;</th><th scope=col>&lt;int&gt;</th><th scope=col>&lt;int&gt;</th><th scope=col>&lt;int&gt;</th></tr>\n",
       "</thead>\n",
       "<tbody>\n",
       "\t<tr><th scope=row>1</th><td>1</td><td>1</td><td>0</td><td>1</td><td>0</td><td>0</td><td>0</td><td>1</td><td>0</td><td>0</td><td>0</td><td>1</td><td>0</td><td>27</td><td>5</td></tr>\n",
       "\t<tr><th scope=row>2</th><td>0</td><td>0</td><td>0</td><td>1</td><td>0</td><td>0</td><td>0</td><td>0</td><td>0</td><td>1</td><td>0</td><td>0</td><td>0</td><td>19</td><td>6</td></tr>\n",
       "\t<tr><th scope=row>3</th><td>0</td><td>1</td><td>0</td><td>1</td><td>0</td><td>0</td><td>1</td><td>0</td><td>0</td><td>0</td><td>0</td><td>1</td><td>0</td><td>26</td><td>4</td></tr>\n",
       "\t<tr><th scope=row>4</th><td>0</td><td>0</td><td>1</td><td>0</td><td>0</td><td>0</td><td>0</td><td>0</td><td>0</td><td>1</td><td>1</td><td>0</td><td>0</td><td>20</td><td>2</td></tr>\n",
       "\t<tr><th scope=row>5</th><td>1</td><td>1</td><td>1</td><td>0</td><td>0</td><td>1</td><td>0</td><td>0</td><td>0</td><td>0</td><td>0</td><td>1</td><td>0</td><td>24</td><td>3</td></tr>\n",
       "\t<tr><th scope=row>6</th><td>1</td><td>1</td><td>0</td><td>1</td><td>0</td><td>0</td><td>0</td><td>0</td><td>0</td><td>1</td><td>0</td><td>1</td><td>0</td><td>24</td><td>2</td></tr>\n",
       "</tbody>\n",
       "</table>\n"
      ],
      "text/latex": [
       "A data.frame: 6 × 15\n",
       "\\begin{tabular}{r|lllllllllllllll}\n",
       "  & y & w & gender\\_female & gender\\_male & gender\\_transgender & ethnicgrp\\_asian & ethnicgrp\\_black & ethnicgrp\\_mixed\\_multiple & ethnicgrp\\_other & ethnicgrp\\_white & partners1 & postlaunch & msm & age & imd\\_decile\\\\\n",
       "  & <int> & <int> & <int> & <int> & <int> & <int> & <int> & <int> & <int> & <int> & <int> & <int> & <int> & <int> & <int>\\\\\n",
       "\\hline\n",
       "\t1 & 1 & 1 & 0 & 1 & 0 & 0 & 0 & 1 & 0 & 0 & 0 & 1 & 0 & 27 & 5\\\\\n",
       "\t2 & 0 & 0 & 0 & 1 & 0 & 0 & 0 & 0 & 0 & 1 & 0 & 0 & 0 & 19 & 6\\\\\n",
       "\t3 & 0 & 1 & 0 & 1 & 0 & 0 & 1 & 0 & 0 & 0 & 0 & 1 & 0 & 26 & 4\\\\\n",
       "\t4 & 0 & 0 & 1 & 0 & 0 & 0 & 0 & 0 & 0 & 1 & 1 & 0 & 0 & 20 & 2\\\\\n",
       "\t5 & 1 & 1 & 1 & 0 & 0 & 1 & 0 & 0 & 0 & 0 & 0 & 1 & 0 & 24 & 3\\\\\n",
       "\t6 & 1 & 1 & 0 & 1 & 0 & 0 & 0 & 0 & 0 & 1 & 0 & 1 & 0 & 24 & 2\\\\\n",
       "\\end{tabular}\n"
      ],
      "text/markdown": [
       "\n",
       "A data.frame: 6 × 15\n",
       "\n",
       "| <!--/--> | y &lt;int&gt; | w &lt;int&gt; | gender_female &lt;int&gt; | gender_male &lt;int&gt; | gender_transgender &lt;int&gt; | ethnicgrp_asian &lt;int&gt; | ethnicgrp_black &lt;int&gt; | ethnicgrp_mixed_multiple &lt;int&gt; | ethnicgrp_other &lt;int&gt; | ethnicgrp_white &lt;int&gt; | partners1 &lt;int&gt; | postlaunch &lt;int&gt; | msm &lt;int&gt; | age &lt;int&gt; | imd_decile &lt;int&gt; |\n",
       "|---|---|---|---|---|---|---|---|---|---|---|---|---|---|---|---|\n",
       "| 1 | 1 | 1 | 0 | 1 | 0 | 0 | 0 | 1 | 0 | 0 | 0 | 1 | 0 | 27 | 5 |\n",
       "| 2 | 0 | 0 | 0 | 1 | 0 | 0 | 0 | 0 | 0 | 1 | 0 | 0 | 0 | 19 | 6 |\n",
       "| 3 | 0 | 1 | 0 | 1 | 0 | 0 | 1 | 0 | 0 | 0 | 0 | 1 | 0 | 26 | 4 |\n",
       "| 4 | 0 | 0 | 1 | 0 | 0 | 0 | 0 | 0 | 0 | 1 | 1 | 0 | 0 | 20 | 2 |\n",
       "| 5 | 1 | 1 | 1 | 0 | 0 | 1 | 0 | 0 | 0 | 0 | 0 | 1 | 0 | 24 | 3 |\n",
       "| 6 | 1 | 1 | 0 | 1 | 0 | 0 | 0 | 0 | 0 | 1 | 0 | 1 | 0 | 24 | 2 |\n",
       "\n"
      ],
      "text/plain": [
       "  y w gender_female gender_male gender_transgender ethnicgrp_asian\n",
       "1 1 1 0             1           0                  0              \n",
       "2 0 0 0             1           0                  0              \n",
       "3 0 1 0             1           0                  0              \n",
       "4 0 0 1             0           0                  0              \n",
       "5 1 1 1             0           0                  1              \n",
       "6 1 1 0             1           0                  0              \n",
       "  ethnicgrp_black ethnicgrp_mixed_multiple ethnicgrp_other ethnicgrp_white\n",
       "1 0               1                        0               0              \n",
       "2 0               0                        0               1              \n",
       "3 1               0                        0               0              \n",
       "4 0               0                        0               1              \n",
       "5 0               0                        0               0              \n",
       "6 0               0                        0               1              \n",
       "  partners1 postlaunch msm age imd_decile\n",
       "1 0         1          0   27  5         \n",
       "2 0         0          0   19  6         \n",
       "3 0         1          0   26  4         \n",
       "4 1         0          0   20  2         \n",
       "5 0         1          0   24  3         \n",
       "6 0         1          0   24  2         "
      ]
     },
     "metadata": {},
     "output_type": "display_data"
    }
   ],
   "source": [
    "# Import data and see first observations\n",
    "data = read.csv(\"../../data/processed_esti.csv\")\n",
    "head(data)"
   ]
  },
  {
   "cell_type": "code",
   "execution_count": 5,
   "metadata": {
    "vscode": {
     "languageId": "r"
    }
   },
   "outputs": [
    {
     "name": "stdout",
     "output_type": "stream",
     "text": [
      "'data.frame':\t1739 obs. of  15 variables:\n",
      " $ y                       : int  1 0 0 0 1 1 1 0 0 1 ...\n",
      " $ w                       : int  1 0 1 0 1 1 1 0 1 1 ...\n",
      " $ gender_female           : int  0 0 0 1 1 0 1 0 0 1 ...\n",
      " $ gender_male             : int  1 1 1 0 0 1 0 1 1 0 ...\n",
      " $ gender_transgender      : int  0 0 0 0 0 0 0 0 0 0 ...\n",
      " $ ethnicgrp_asian         : int  0 0 0 0 1 0 0 0 0 0 ...\n",
      " $ ethnicgrp_black         : int  0 0 1 0 0 0 0 1 0 1 ...\n",
      " $ ethnicgrp_mixed_multiple: int  1 0 0 0 0 0 0 0 0 0 ...\n",
      " $ ethnicgrp_other         : int  0 0 0 0 0 0 0 0 0 0 ...\n",
      " $ ethnicgrp_white         : int  0 1 0 1 0 1 1 0 1 0 ...\n",
      " $ partners1               : int  0 0 0 1 0 0 0 0 1 0 ...\n",
      " $ postlaunch              : int  1 0 1 0 1 1 0 1 0 0 ...\n",
      " $ msm                     : int  0 0 0 0 0 0 0 0 0 0 ...\n",
      " $ age                     : int  27 19 26 20 24 24 24 21 27 21 ...\n",
      " $ imd_decile              : int  5 6 4 2 3 2 4 2 2 6 ...\n"
     ]
    }
   ],
   "source": [
    "str(data)"
   ]
  },
  {
   "cell_type": "code",
   "execution_count": 6,
   "metadata": {
    "vscode": {
     "languageId": "r"
    }
   },
   "outputs": [
    {
     "data": {
      "text/plain": [
       "data$w: 0\n",
       "       w     gender_female     gender_male     gender_transgender\n",
       " Min.   :0   Min.   :0.0000   Min.   :0.0000   Min.   :0.000000  \n",
       " 1st Qu.:0   1st Qu.:0.0000   1st Qu.:0.0000   1st Qu.:0.000000  \n",
       " Median :0   Median :1.0000   Median :0.0000   Median :0.000000  \n",
       " Mean   :0   Mean   :0.5807   Mean   :0.4181   Mean   :0.001223  \n",
       " 3rd Qu.:0   3rd Qu.:1.0000   3rd Qu.:1.0000   3rd Qu.:0.000000  \n",
       " Max.   :0   Max.   :1.0000   Max.   :1.0000   Max.   :1.000000  \n",
       " ethnicgrp_asian   ethnicgrp_black   ethnicgrp_mixed_multiple ethnicgrp_other  \n",
       " Min.   :0.00000   Min.   :0.00000   Min.   :0.00000          Min.   :0.00000  \n",
       " 1st Qu.:0.00000   1st Qu.:0.00000   1st Qu.:0.00000          1st Qu.:0.00000  \n",
       " Median :0.00000   Median :0.00000   Median :0.00000          Median :0.00000  \n",
       " Mean   :0.05501   Mean   :0.09291   Mean   :0.09291          Mean   :0.01711  \n",
       " 3rd Qu.:0.00000   3rd Qu.:0.00000   3rd Qu.:0.00000          3rd Qu.:0.00000  \n",
       " Max.   :1.00000   Max.   :1.00000   Max.   :1.00000          Max.   :1.00000  \n",
       " ethnicgrp_white    partners1        postlaunch          msm        \n",
       " Min.   :0.0000   Min.   :0.0000   Min.   :0.0000   Min.   :0.0000  \n",
       " 1st Qu.:0.0000   1st Qu.:0.0000   1st Qu.:0.0000   1st Qu.:0.0000  \n",
       " Median :1.0000   Median :0.0000   Median :0.0000   Median :0.0000  \n",
       " Mean   :0.7421   Mean   :0.2922   Mean   :0.4731   Mean   :0.1381  \n",
       " 3rd Qu.:1.0000   3rd Qu.:1.0000   3rd Qu.:1.0000   3rd Qu.:0.0000  \n",
       " Max.   :1.0000   Max.   :1.0000   Max.   :1.0000   Max.   :1.0000  \n",
       "      age          imd_decile   \n",
       " Min.   :16.00   Min.   :1.000  \n",
       " 1st Qu.:20.00   1st Qu.:2.000  \n",
       " Median :23.00   Median :3.000  \n",
       " Mean   :23.05   Mean   :3.484  \n",
       " 3rd Qu.:26.00   3rd Qu.:4.000  \n",
       " Max.   :30.00   Max.   :9.000  \n",
       "------------------------------------------------------------ \n",
       "data$w: 1\n",
       "       w     gender_female     gender_male     gender_transgender\n",
       " Min.   :1   Min.   :0.0000   Min.   :0.0000   Min.   :0.000000  \n",
       " 1st Qu.:1   1st Qu.:0.0000   1st Qu.:0.0000   1st Qu.:0.000000  \n",
       " Median :1   Median :1.0000   Median :0.0000   Median :0.000000  \n",
       " Mean   :1   Mean   :0.5874   Mean   :0.4093   Mean   :0.003257  \n",
       " 3rd Qu.:1   3rd Qu.:1.0000   3rd Qu.:1.0000   3rd Qu.:0.000000  \n",
       " Max.   :1   Max.   :1.0000   Max.   :1.0000   Max.   :1.000000  \n",
       " ethnicgrp_asian   ethnicgrp_black   ethnicgrp_mixed_multiple\n",
       " Min.   :0.00000   Min.   :0.00000   Min.   :0.00000         \n",
       " 1st Qu.:0.00000   1st Qu.:0.00000   1st Qu.:0.00000         \n",
       " Median :0.00000   Median :0.00000   Median :0.00000         \n",
       " Mean   :0.07166   Mean   :0.08035   Mean   :0.08469         \n",
       " 3rd Qu.:0.00000   3rd Qu.:0.00000   3rd Qu.:0.00000         \n",
       " Max.   :1.00000   Max.   :1.00000   Max.   :1.00000         \n",
       " ethnicgrp_other    ethnicgrp_white    partners1        postlaunch    \n",
       " Min.   :0.000000   Min.   :0.0000   Min.   :0.0000   Min.   :0.0000  \n",
       " 1st Qu.:0.000000   1st Qu.:1.0000   1st Qu.:0.0000   1st Qu.:0.0000  \n",
       " Median :0.000000   Median :1.0000   Median :0.0000   Median :1.0000  \n",
       " Mean   :0.009772   Mean   :0.7535   Mean   :0.3008   Mean   :0.5559  \n",
       " 3rd Qu.:0.000000   3rd Qu.:1.0000   3rd Qu.:1.0000   3rd Qu.:1.0000  \n",
       " Max.   :1.000000   Max.   :1.0000   Max.   :1.0000   Max.   :1.0000  \n",
       "      msm              age          imd_decile  \n",
       " Min.   :0.0000   Min.   :16.00   Min.   :1.00  \n",
       " 1st Qu.:0.0000   1st Qu.:20.00   1st Qu.:2.00  \n",
       " Median :0.0000   Median :23.00   Median :3.00  \n",
       " Mean   :0.1238   Mean   :23.16   Mean   :3.46  \n",
       " 3rd Qu.:0.0000   3rd Qu.:26.00   3rd Qu.:4.00  \n",
       " Max.   :1.0000   Max.   :30.00   Max.   :9.00  "
      ]
     },
     "metadata": {},
     "output_type": "display_data"
    }
   ],
   "source": [
    "by(data[, !names(data) %in% 'y'], data$w, summary)"
   ]
  },
  {
   "cell_type": "markdown",
   "metadata": {},
   "source": [
    "The observations for each variable are generally balanced between the control and treatment groups. Additionally, most participants are white, with an average age of approximately 23. The mean IMD decile scores are around 3.5, indicating that participants in both groups tend to come from more deprived areas."
   ]
  },
  {
   "cell_type": "markdown",
   "metadata": {},
   "source": [
    "#### 1.2. Descriptive graphs (vale)"
   ]
  },
  {
   "cell_type": "code",
   "execution_count": 7,
   "metadata": {
    "vscode": {
     "languageId": "r"
    }
   },
   "outputs": [
    {
     "data": {
      "text/plain": [
       "\u001b[4mBalance Measures\u001b[24m\n",
       "                    Type Diff.Adj\n",
       "prop.score      Distance  -0.0025\n",
       "age              Contin.  -0.0009\n",
       "gender_male       Binary   0.0004\n",
       "ethnicgrp_white   Binary  -0.0001\n",
       "partners1         Binary  -0.0010\n",
       "imd_decile       Contin.   0.0021\n",
       "\n",
       "\u001b[4mEffective sample sizes\u001b[24m\n",
       "           Control Treated\n",
       "Unadjusted  818.       921\n",
       "Adjusted    815.66     921"
      ]
     },
     "metadata": {},
     "output_type": "display_data"
    }
   ],
   "source": [
    "#Generating propensity score weights for the ATT\n",
    "w.out <- WeightIt::weightit(w ~ age + gender_male + ethnicgrp_white + partners1 + imd_decile,\n",
    "                            data = data,\n",
    "                            method = \"glm\",\n",
    "                            estimand = \"ATT\")\n",
    "\n",
    "bal.tab(w.out)"
   ]
  },
  {
   "cell_type": "code",
   "execution_count": 8,
   "metadata": {
    "vscode": {
     "languageId": "r"
    }
   },
   "outputs": [
    {
     "data": {
      "image/png": "[encoded data removed]",
      "text/plain": [
       "plot without title"
      ]
     },
     "metadata": {
      "image/png": {
       "height": 420,
       "width": 420
      }
     },
     "output_type": "display_data"
    }
   ],
   "source": [
    "bal.plot(w.out, var.name = \"gender_male\")"
   ]
  },
  {
   "cell_type": "markdown",
   "metadata": {},
   "source": [
    "As we saw in section 1.1., there is a similar percentage of males and females participants in each treatment group in the sample. "
   ]
  },
  {
   "cell_type": "code",
   "execution_count": 9,
   "metadata": {
    "vscode": {
     "languageId": "r"
    }
   },
   "outputs": [
    {
     "data": {
      "image/png": "[encoded data removed]",
      "text/plain": [
       "plot without title"
      ]
     },
     "metadata": {
      "image/png": {
       "height": 420,
       "width": 420
      }
     },
     "output_type": "display_data"
    }
   ],
   "source": [
    "bal.plot(w.out, var.name = \"partners1\")"
   ]
  },
  {
   "cell_type": "markdown",
   "metadata": {},
   "source": [
    "In a similar manner, we note an equal percentage of participants with 2 or more sexual partners as well as those with 1 sexual partner in the last 12 months from the beginning of the study, per treatment or control group."
   ]
  },
  {
   "cell_type": "code",
   "execution_count": 10,
   "metadata": {
    "vscode": {
     "languageId": "r"
    }
   },
   "outputs": [
    {
     "data": {
      "image/png": "[encoded data removed]",
      "text/plain": [
       "plot without title"
      ]
     },
     "metadata": {
      "image/png": {
       "height": 420,
       "width": 420
      }
     },
     "output_type": "display_data"
    },
    {
     "data": {
      "image/png": "[encoded data removed]",
      "text/plain": [
       "plot without title"
      ]
     },
     "metadata": {
      "image/png": {
       "height": 420,
       "width": 420
      }
     },
     "output_type": "display_data"
    }
   ],
   "source": [
    "bal.plot(w.out, var.name = \"age\")\n",
    "bal.plot(w.out, var.name = \"imd_decile\")"
   ]
  },
  {
   "cell_type": "markdown",
   "metadata": {},
   "source": [
    "We can see a higher percentage of participants aged between 23 and 27 in the treatment group. Also, there is a higher perceptange of participants aged between 21 and 22 and 27 and 29 in the control group."
   ]
  },
  {
   "cell_type": "markdown",
   "metadata": {},
   "source": [
    "In the case of the IMD decile, an index that measures poverty in the UK, we can see the same proportion of participants in each group."
   ]
  },
  {
   "cell_type": "markdown",
   "metadata": {},
   "source": [
    "### 2. Linear Regression analysis"
   ]
  },
  {
   "cell_type": "markdown",
   "metadata": {},
   "source": [
    "#### 2.1. Regression 1: $y = \\beta_0 + \\beta_1 T + \\epsilon$   (Vale)"
   ]
  },
  {
   "cell_type": "code",
   "execution_count": 11,
   "metadata": {
    "vscode": {
     "languageId": "r"
    }
   },
   "outputs": [
    {
     "data": {
      "text/plain": [
       "\n",
       "Call:\n",
       "lm(formula = y ~ w, data = data)\n",
       "\n",
       "Coefficients:\n",
       "(Intercept)            w  \n",
       "     0.2115       0.2652  \n"
      ]
     },
     "metadata": {},
     "output_type": "display_data"
    }
   ],
   "source": [
    "lm(formula = y ~ w, data = data)"
   ]
  },
  {
   "cell_type": "markdown",
   "metadata": {},
   "source": [
    "We found that the adjusted R-squared is 0.076 and the ATE is approximately 0.27. This means that the treatment explains only 7.6% of the increase in the STI tests between the control and treatment groups. Additionally, receiving the treatment (i.e. being invited to use the internet-based sexual health service) increases, on average, the probability of taking an STI test by 26.5%."
   ]
  },
  {
   "cell_type": "markdown",
   "metadata": {},
   "source": [
    "#### 2.2. Regression 2: $y = \\beta_0 + \\beta_1 T + \\beta_2 X + \\epsilon$  (vale)"
   ]
  },
  {
   "cell_type": "code",
   "execution_count": 12,
   "metadata": {
    "vscode": {
     "languageId": "r"
    }
   },
   "outputs": [
    {
     "data": {
      "text/plain": [
       "\n",
       "Call:\n",
       "lm(formula = y ~ w + age + gender_female + ethnicgrp_white + \n",
       "    ethnicgrp_black + ethnicgrp_mixed_multiple + partners1 + \n",
       "    postlaunch + imd_decile + msm, data = data)\n",
       "\n",
       "Coefficients:\n",
       "             (Intercept)                         w                       age  \n",
       "               -0.162682                  0.255716                  0.012476  \n",
       "           gender_female           ethnicgrp_white           ethnicgrp_black  \n",
       "                0.091026                  0.049819                 -0.040238  \n",
       "ethnicgrp_mixed_multiple                 partners1                postlaunch  \n",
       "               -0.035933                 -0.059428                  0.077319  \n",
       "              imd_decile                       msm  \n",
       "               -0.004155                 -0.006273  \n"
      ]
     },
     "metadata": {},
     "output_type": "display_data"
    }
   ],
   "source": [
    "lm(formula = y ~ w + age + gender_female + ethnicgrp_white + ethnicgrp_black + ethnicgrp_mixed_multiple + partners1 + postlaunch + imd_decile + msm, data = data)"
   ]
  },
  {
   "cell_type": "markdown",
   "metadata": {},
   "source": [
    "Compared to the previous regression, when we include additional variables (age, gender, ethnic group, number of sexual partners, the indicator for Randomised after SH:24 made publicly available, the indicator for men who have sex with men, and the socioeconomic level measured by deciles), we observe an increase in the adjusted R-squared of approximately 0.3 percentage points (from 0.1). Additionally, the ATE decreases by 0.003 percentage points, indicating a negative bias.\n",
    "\n",
    "It is worth mentioning that we omit gender_male to avoid collinearity with gender_female. Similarly, we exclude the less relevant ethnic group (i.e. the one with fewer observations) to prevent the same issue."
   ]
  },
  {
   "cell_type": "markdown",
   "metadata": {},
   "source": [
    "#### 2.3."
   ]
  },
  {
   "cell_type": "code",
   "execution_count": null,
   "metadata": {
    "vscode": {
     "languageId": "r"
    }
   },
   "outputs": [],
   "source": []
  },
  {
   "cell_type": "markdown",
   "metadata": {},
   "source": [
    "We observe that the ATE using double lasso is akin to the OLS with confounders, along with the adjusted R-squared."
   ]
  },
  {
   "cell_type": "markdown",
   "metadata": {},
   "source": [
    "#### 2.4."
   ]
  },
  {
   "cell_type": "code",
   "execution_count": null,
   "metadata": {
    "vscode": {
     "languageId": "r"
    }
   },
   "outputs": [],
   "source": []
  },
  {
   "cell_type": "markdown",
   "metadata": {},
   "source": [
    "In general, the three ATEs are very similar, but we consider that the models that include the cofounders (OLS with controls and DL) are better estimated."
   ]
  },
  {
   "cell_type": "markdown",
   "metadata": {},
   "source": [
    "### 3. Non-Linear Methods DML"
   ]
  },
  {
   "cell_type": "code",
   "execution_count": 13,
   "metadata": {
    "vscode": {
     "languageId": "r"
    }
   },
   "outputs": [
    {
     "name": "stderr",
     "output_type": "stream",
     "text": [
      "Warning message in file(file, \"rt\"):\n",
      "\"cannot open file '../../../data/processed_esti.csv': No such file or directory\"\n"
     ]
    },
    {
     "ename": "ERROR",
     "evalue": "Error in file(file, \"rt\"): cannot open the connection\n",
     "output_type": "error",
     "traceback": [
      "Error in file(file, \"rt\"): cannot open the connection\nTraceback:\n",
      "1. as.data.frame(read.table(\"../../../data/processed_esti.csv\", \n .     header = T, sep = \",\"))",
      "2. read.table(\"../../../data/processed_esti.csv\", header = T, sep = \",\")",
      "3. file(file, \"rt\")"
     ]
    }
   ],
   "source": [
    "rm(list=ls())\n",
    "DML <- as.data.frame(read.table(\"../../../data/processed_esti.csv\", header=T ,sep=\",\"))\n",
    "#DML <- as.data.frame(read.table(\"C:/Users/Erzo/Documents/GitHub/CausalAI-Course/data/processed_esti.csv\", header=T ,sep=\",\"))\n",
    "\n",
    "set.seed(1234)\n",
    "training <- sample(nrow(DML), nrow(DML)*(3/4), replace=FALSE)\n",
    "data_train <- DML[training,]\n",
    "data_test <- DML[-training,]\n",
    "Y_test <- data_test$y\n",
    "\n",
    "y = as.matrix(data_train[,1])         # outcome: growth rate\n",
    "d = as.matrix(data_train[,2])         # treatment: initial wealth\n",
    "x = as.matrix(data_train[,-c(1,2)]) # controls: country characteristics"
   ]
  },
  {
   "cell_type": "markdown",
   "metadata": {},
   "source": [
    "### DML function for Regression tree"
   ]
  },
  {
   "cell_type": "code",
   "execution_count": 9,
   "metadata": {
    "vscode": {
     "languageId": "r"
    }
   },
   "outputs": [],
   "source": [
    "DML2.for.PLM.tree <- function(data_train, dreg, yreg, nfold=10) {\n",
    "  nobs <- nrow(data_train) #number of observations\n",
    "  foldid <- rep.int(1:nfold,times = ceiling(nobs/nfold))[sample.int(nobs)] #define folds indices\n",
    "  I <- split(1:nobs, foldid)  #split observation indices into folds\n",
    "  ytil <- dtil <- rep(NA, nobs)\n",
    "  cat(\"fold: \")\n",
    "  for(b in 1:length(I)){\n",
    "    datitanow=data_train[-I[[b]],-c(2)]\n",
    "    datitanoy=data_train[-I[[b]],-c(1)]\n",
    "    datitanowpredict=data_train[I[[b]],-c(2)]\n",
    "    datitanoypredict=data_train[I[[b]],-c(1)]\n",
    "    \n",
    "    dfit <- dreg(datitanoy) #take a fold out\n",
    "    yfit <- yreg(datitanow) # take a foldt out\n",
    "    dhat <- predict(dfit, datitanoypredict ) #predict the left-out fold\n",
    "    yhat <- predict(yfit, datitanowpredict ) #predict the left-out fold\n",
    "    dtil[I[[b]]] <- (d[I[[b]]] - dhat) #record residual for the left-out fold\n",
    "    ytil[I[[b]]] <- (y[I[[b]]] - yhat) #record residial for the left-out fold\n",
    "    cat(b,\" \")\n",
    "  }\n",
    "  rfit <- lm(ytil ~ dtil)    #estimate the main parameter by regressing one residual on the other\n",
    "  coef.est <- coef(rfit)[2]  #extract coefficient\n",
    "  se <- sqrt(vcovHC(rfit)[2,2]) #record robust standard error\n",
    "  cat(sprintf(\"\\ncoef (se) = %g (%g)\\n\", coef.est , se))  #printing output\n",
    "  return( list(coef.est =coef.est , se=se, dtil=dtil, ytil=ytil) ) #save output and residuals\n",
    "}"
   ]
  },
  {
   "cell_type": "markdown",
   "metadata": {},
   "source": [
    "### DML function for Boosting Trees"
   ]
  },
  {
   "cell_type": "code",
   "execution_count": 10,
   "metadata": {
    "vscode": {
     "languageId": "r"
    }
   },
   "outputs": [],
   "source": [
    "DML2.for.PLM.boosttree <- function(data_train, dreg, yreg, nfold=10) {\n",
    "  nobs <- nrow(data_train) #number of observations\n",
    "  foldid <- rep.int(1:nfold,times = ceiling(nobs/nfold))[sample.int(nobs)] #define folds indices\n",
    "  I <- split(1:nobs, foldid)  #split observation indices into folds\n",
    "  ytil <- dtil <- rep(NA, nobs)\n",
    "  cat(\"fold: \")\n",
    "  for(b in 1:length(I)){\n",
    "    datitanow=data_train[-I[[b]],-c(2)]\n",
    "    datitanoy=data_train[-I[[b]],-c(1)]\n",
    "    datitanowpredict=data_train[I[[b]],-c(2)]\n",
    "    datitanoypredict=data_train[I[[b]],-c(1)]\n",
    "    \n",
    "    dfit <- dreg(datitanoy) #take a fold out\n",
    "    best.boostt  <- gbm.perf(dfit, plot.it = FALSE) # cross-validation to determine when to stop\n",
    "    yfit <- yreg(datitanow) # take a foldt out\n",
    "    best.boosty  <- gbm.perf(yfit, plot.it = FALSE) # cross-validation to determine when to stop\n",
    "    dhat <- predict(dfit, datitanoypredict, n.trees=best.boostt) \n",
    "    yhat <- predict(yfit, datitanowpredict, n.trees=best.boosty) #predict the left-out fold\n",
    "    dtil[I[[b]]] <- (d[I[[b]]] - dhat) #record residual for the left-out fold\n",
    "    ytil[I[[b]]] <- (y[I[[b]]] - yhat) #record residial for the left-out fold\n",
    "    cat(b,\" \")\n",
    "  }\n",
    "  rfit <- lm(ytil ~ dtil)    #estimate the main parameter by regressing one residual on the other\n",
    "  coef.est <- coef(rfit)[2]  #extract coefficient\n",
    "  se <- sqrt(vcovHC(rfit)[2,2]) #record robust standard error\n",
    "  cat(sprintf(\"\\ncoef (se) = %g (%g)\\n\", coef.est , se))  #printing output\n",
    "  return( list(coef.est =coef.est , se=se, dtil=dtil, ytil=ytil) ) #save output and residuals\n",
    "}"
   ]
  },
  {
   "cell_type": "markdown",
   "metadata": {},
   "source": [
    "### DML function for Lasso and Random Forest"
   ]
  },
  {
   "cell_type": "code",
   "execution_count": 11,
   "metadata": {
    "vscode": {
     "languageId": "r"
    }
   },
   "outputs": [],
   "source": [
    "DML2.for.PLM <- function(x, d, y, dreg, yreg, nfold=10) {\n",
    "  nobs <- nrow(x) #number of observations\n",
    "  foldid <- rep.int(1:nfold,times = ceiling(nobs/nfold))[sample.int(nobs)] #define folds indices\n",
    "  I <- split(1:nobs, foldid)  #split observation indices into folds\n",
    "  ytil <- dtil <- rep(NA, nobs)\n",
    "  cat(\"fold: \")\n",
    "  for(b in 1:length(I)){\n",
    "    dfit <- dreg(x[-I[[b]],], d[-I[[b]]]) #take a fold out\n",
    "    yfit <- yreg(x[-I[[b]],], y[-I[[b]]]) # take a foldt out\n",
    "    dhat <- predict(dfit, x[I[[b]],], type=\"response\") #predict the left-out fold\n",
    "    yhat <- predict(yfit, x[I[[b]],], type=\"response\") #predict the left-out fold\n",
    "    dtil[I[[b]]] <- (d[I[[b]]] - dhat) #record residual for the left-out fold\n",
    "    ytil[I[[b]]] <- (y[I[[b]]] - yhat) #record residial for the left-out fold\n",
    "    cat(b,\" \")\n",
    "  }\n",
    "  rfit <- lm(ytil ~ dtil)    #estimate the main parameter by regressing one residual on the other\n",
    "  coef.est <- coef(rfit)[2]  #extract coefficient\n",
    "  se <- sqrt(vcovHC(rfit)[2,2]) #record robust standard error\n",
    "  cat(sprintf(\"\\ncoef (se) = %g (%g)\\n\", coef.est , se))  #printing output\n",
    "  return( list(coef.est =coef.est , se=se, dtil=dtil, ytil=ytil) ) #save output and residuals\n",
    "}"
   ]
  },
  {
   "cell_type": "markdown",
   "metadata": {},
   "source": [
    "#### 3.1. Lasso"
   ]
  },
  {
   "cell_type": "code",
   "execution_count": 17,
   "metadata": {
    "vscode": {
     "languageId": "r"
    }
   },
   "outputs": [
    {
     "name": "stdout",
     "output_type": "stream",
     "text": [
      "\n",
      "DML with Lasso \n",
      "fold: "
     ]
    },
    {
     "ename": "ERROR",
     "evalue": "Error in rlasso(x, d, post = FALSE): no se pudo encontrar la función \"rlasso\"\n",
     "output_type": "error",
     "traceback": [
      "Error in rlasso(x, d, post = FALSE): no se pudo encontrar la función \"rlasso\"\nTraceback:\n",
      "1. DML2.for.PLM(x, d, y, dreg_lasso, yreg_lasso, nfold = 10)",
      "2. dreg(x[-I[[b]], ], d[-I[[b]]])   # at line 8 of file <text>"
     ]
    }
   ],
   "source": [
    "cat(sprintf(\"\\nDML with Lasso \\n\"))\n",
    "dreg_lasso <- function(x,d){ rlasso(x,d, post=FALSE) } #ML method= lasso from hdm\n",
    "yreg_lasso <- function(x,y){ rlasso(x,y, post=FALSE) } #ML method = lasso from hdm\n",
    "DML2.lasso = DML2.for.PLM(x, d, y, dreg_lasso, yreg_lasso, nfold=10)\n",
    "\n",
    "coef_lasso<-as.numeric(DML2.lasso$coef.est)\n",
    "se_lasso<-as.numeric(DML2.lasso$se)\n",
    "prRes_lassoD<- c(mean((DML2.lasso$dtil)^2));\n",
    "prRes_lassoY<- c(mean((DML2.lasso$ytil)^2));\n",
    "prRes_lasso<- rbind(coef_lasso,se_lasso,sqrt(prRes_lassoD), sqrt(prRes_lassoY));\n",
    "rownames(prRes_lasso)<- c(\"Estimate\",\"Standard Error\",\"RMSE D\", \"RMSE Y\");\n",
    "colnames(prRes_lasso)<- c(\"Lasso\")\n",
    "prRes_lasso "
   ]
  },
  {
   "cell_type": "markdown",
   "metadata": {},
   "source": [
    "The message treatment providing information about Internet-accessed sexually transmitted \n",
    "infection testing predicts an increase in the probability that a person will get tested \n",
    "by 25.13 percentage points compared to receiving information about nearby clinics offering \n",
    "in-person testing. \n",
    "By providing both groups with information about testing, we mitigate the potential reminder \n",
    "effect, as both groups are equally prompted to consider testing. This approach allows us to \n",
    "isolate the impact of the type of information \"Internet-accessed testing\" versus \"in-person clinic \n",
    "testing\" on the likelihood of getting tested. Through randomized assignment, we establish causality \n",
    "rather than mere correlation, confirming that the intervention's effect is driven by the unique \n",
    "advantages of Internet-accessed testing, such as increased privacy, reduced embarrassment, and \n",
    "convenience"
   ]
  },
  {
   "cell_type": "markdown",
   "metadata": {},
   "source": [
    "#### 3.2. Regression Trees"
   ]
  },
  {
   "cell_type": "code",
   "execution_count": null,
   "metadata": {
    "vscode": {
     "languageId": "r"
    }
   },
   "outputs": [],
   "source": [
    "# Tree\n",
    "X_basic <-  \"gender_transgender + ethnicgrp_asian + ethnicgrp_black + ethnicgrp_mixed_multiple+ ethnicgrp_other + ethnicgrp_white + partners1 + postlaunch + msm + age+ imd_decile\"\n",
    "y_form_tree <- as.formula(paste(\"y\", \"~\", X_basic))\n",
    "t_form_tree <- as.formula(paste(\"w\", \"~\", X_basic))\n",
    "yreg_tree <- function(dataa){rpart(y_form_tree, dataa, minbucket=5, cp = 0.001)}\n",
    "treg_tree <- function(dataa){rpart(t_form_tree, dataa, minbucket=5, cp = 0.001)}\n",
    "DML2.tree = DML2.for.PLM.tree(data_train, treg_tree, yreg_tree, nfold=10)\n",
    "\n",
    "coef_tree<-as.numeric(DML2.tree$coef.est)\n",
    "se_tree<-as.numeric(DML2.tree$se)\n",
    "prRes_treeD<- c(mean((DML2.tree$dtil)^2));\n",
    "prRes_treeY<- c(mean((DML2.tree$ytil)^2));\n",
    "prRes_tree<- rbind(coef_tree,se_tree,sqrt(prRes_treeD), sqrt(prRes_treeY));\n",
    "rownames(prRes_tree)<- c(\"Estimate\",\"Standard Error\",\"RMSE D\", \"RMSE Y\");\n",
    "colnames(prRes_tree)<- c(\"Regression Tree\")\n",
    "prRes_tree "
   ]
  },
  {
   "cell_type": "markdown",
   "metadata": {},
   "source": [
    "The message treatment providing information about Internet-accessed sexually transmitted \n",
    "infection testing predicts an increase in the probability that a person will get tested \n",
    "by 23.08 percentage points compared to receiving information about nearby clinics offering \n",
    "in-person testing. \n",
    "By providing both groups with information about testing, we mitigate the potential reminder \n",
    "effect, as both groups are equally prompted to consider testing. This approach allows us to \n",
    "isolate the impact of the type of information \"Internet-accessed testing\" versus \"in-person clinic \n",
    "testing\" on the likelihood of getting tested. Through randomized assignment, we establish causality \n",
    "rather than mere correlation, confirming that the intervention's effect is driven by the unique \n",
    "advantages of Internet-accessed testing, such as increased privacy, reduced embarrassment, and \n",
    "convenience"
   ]
  },
  {
   "cell_type": "markdown",
   "metadata": {},
   "source": [
    "#### 3.3. Boosting Trees"
   ]
  },
  {
   "cell_type": "code",
   "execution_count": null,
   "metadata": {
    "vscode": {
     "languageId": "r"
    }
   },
   "outputs": [],
   "source": [
    "yreg_treeboost<- function(dataa){gbm(y_form_tree, data=dataa, distribution= \"gaussian\", bag.fraction = .5, interaction.depth=2, n.trees=1000, shrinkage=.01)}\n",
    "treg_treeboost<- function(dataa){gbm(t_form_tree, data=dataa, distribution= \"gaussian\", bag.fraction = .5, interaction.depth=2, n.trees=1000, shrinkage=.01)}\n",
    "DML2.boosttree = DML2.for.PLM.boosttree(data_train, treg_treeboost, yreg_treeboost, nfold=10)\n",
    "\n",
    "coef_boosttree<-as.numeric(DML2.boosttree$coef.est)\n",
    "se_boosttree<-as.numeric(DML2.boosttree$se)\n",
    "prRes_boosttreeD<- c(mean((DML2.boosttree$dtil)^2));\n",
    "prRes_boosttreeY<- c(mean((DML2.boosttree$ytil)^2));\n",
    "prRes_boosttree<- rbind(coef_boosttree,se_boosttree,sqrt(prRes_boosttreeD), sqrt(prRes_boosttreeY));\n",
    "rownames(prRes_boosttree)<- c(\"Estimate\",\"Standard Error\",\"RMSE D\", \"RMSE Y\");\n",
    "colnames(prRes_boosttree)<- c(\"Regression Tree\")\n",
    "prRes_boosttree "
   ]
  },
  {
   "cell_type": "markdown",
   "metadata": {},
   "source": [
    "The message treatment providing information about Internet-accessed sexually transmitted \n",
    "infection testing predicts an increase in the probability that a person will get tested \n",
    "by 25.28 percentage points compared to receiving information about nearby clinics offering \n",
    "in-person testing. \n",
    "By providing both groups with information about testing, we mitigate the potential reminder \n",
    "effect, as both groups are equally prompted to consider testing. This approach allows us to \n",
    "isolate the impact of the type of information \"Internet-accessed testing\" versus \"in-person clinic \n",
    "testing\" on the likelihood of getting tested. Through randomized assignment, we establish causality \n",
    "rather than mere correlation, confirming that the intervention's effect is driven by the unique \n",
    "advantages of Internet-accessed testing, such as increased privacy, reduced embarrassment, and \n",
    "convenience"
   ]
  },
  {
   "cell_type": "markdown",
   "metadata": {},
   "source": [
    "#### 3.4. Random Forest"
   ]
  },
  {
   "cell_type": "code",
   "execution_count": null,
   "metadata": {
    "vscode": {
     "languageId": "r"
    }
   },
   "outputs": [],
   "source": [
    "cat(sprintf(\"\\nDML with Random Forest \\n\"))\n",
    "dreg <- function(x,d){ randomForest(x, d) } #ML method=Forest\n",
    "yreg <- function(x,y){ randomForest(x, y) } #ML method=Forest\n",
    "DML2.RF = DML2.for.PLM(x, d, y, dreg, yreg, nfold=10)\n",
    "\n",
    "coef_RF<-as.numeric(DML2.RF$coef.est)\n",
    "se_RF<-as.numeric(DML2.RF$se)\n",
    "prRes_RFD<- c(mean((DML2.RF$dtil)^2));\n",
    "prRes_RFY<- c(mean((DML2.RF$ytil)^2));\n",
    "prRes_RF<- rbind(coef_RF,se_RF,sqrt(prRes_RFD), sqrt(prRes_RFY));\n",
    "rownames(prRes_RF)<- c(\"Estimate\",\"Standard Error\",\"RMSE D\", \"RMSE Y\");\n",
    "colnames(prRes_RF)<- c(\"Random Forest\")\n",
    "prRes_RF "
   ]
  },
  {
   "cell_type": "markdown",
   "metadata": {},
   "source": [
    "The message treatment providing information about Internet-accessed sexually transmitted \n",
    "infection testing predicts an increase in the probability that a person will get tested \n",
    "by 24.14 percentage points compared to receiving information about nearby clinics offering \n",
    "in-person testing. \n",
    "By providing both groups with information about testing, we mitigate the potential reminder \n",
    "effect, as both groups are equally prompted to consider testing. This approach allows us to \n",
    "isolate the impact of the type of information \"Internet-accessed testing\" versus \"in-person clinic \n",
    "testing\" on the likelihood of getting tested. Through randomized assignment, we establish causality \n",
    "rather than mere correlation, confirming that the intervention's effect is driven by the unique \n",
    "advantages of Internet-accessed testing, such as increased privacy, reduced embarrassment, and \n",
    "convenience"
   ]
  },
  {
   "cell_type": "markdown",
   "metadata": {},
   "source": [
    "#### 3.5. Table and Coefficient plot"
   ]
  },
  {
   "cell_type": "markdown",
   "metadata": {},
   "source": [
    "##### Table"
   ]
  },
  {
   "cell_type": "code",
   "execution_count": null,
   "metadata": {
    "vscode": {
     "languageId": "r"
    }
   },
   "outputs": [],
   "source": [
    "prRes.D<- c( mean((DML2.lasso$dtil)^2), mean((DML2.tree$dtil)^2), mean((DML2.boosttree$dtil)^2), mean((DML2.RF$dtil)^2));\n",
    "prRes.Y<- c(mean((DML2.lasso$ytil)^2), mean((DML2.tree$ytil)^2),mean((DML2.boosttree$ytil)^2),mean((DML2.RF$ytil)^2));\n",
    "prRes<- rbind(sqrt(prRes.D), sqrt(prRes.Y));\n",
    "rownames(prRes)<- c(\"RMSE D\", \"RMSE Y\");\n",
    "colnames(prRes)<- c(\"Lasso\", \"Reg Tree\", \"Boost Tree\", \"Random Forest\")\n",
    "\n",
    "table <- matrix(0,4,4)\n",
    "# Point Estimate\n",
    "table[1,1] <- as.numeric(DML2.lasso$coef.est)\n",
    "table[2,1] <- as.numeric(DML2.tree$coef.est)\n",
    "table[3,1] <- as.numeric(DML2.boosttree$coef.est)\n",
    "table[4,1]   <- as.numeric(DML2.RF$coef.est)\n",
    "# SE\n",
    "table[1,2] <- as.numeric(DML2.lasso$se)\n",
    "table[2,2] <- as.numeric(DML2.tree$se)\n",
    "table[3,2] <- as.numeric(DML2.boosttree$se)\n",
    "table[4,2]   <- as.numeric(DML2.RF$se)\n",
    "# RMSE Y\n",
    "table[1,3] <- as.numeric(prRes[2,1])\n",
    "table[2,3] <- as.numeric(prRes[2,2])\n",
    "table[3,3] <- as.numeric(prRes[2,3])\n",
    "table[4,3]   <- as.numeric(prRes[2,4])\n",
    "# RMSE D\n",
    "table[1,4] <- as.numeric(prRes[1,1])\n",
    "table[2,4] <- as.numeric(prRes[1,2])\n",
    "table[3,4] <- as.numeric(prRes[1,3])\n",
    "table[4,4]   <- as.numeric(prRes[1,4])\n",
    "# print results\n",
    "colnames(table) <- c(\"Estimate\",\"Standard Error\", \"RMSE Y\", \"RMSE D\")\n",
    "rownames(table) <- c(\"Lasso\", \"Reg Tree\", \"Boost Tree\", \"Random Forest\")\n",
    "table"
   ]
  },
  {
   "cell_type": "markdown",
   "metadata": {},
   "source": [
    "##### Coefficient Plot"
   ]
  },
  {
   "cell_type": "code",
   "execution_count": null,
   "metadata": {
    "vscode": {
     "languageId": "r"
    }
   },
   "outputs": [
    {
     "data": {
      "image/png": "[encoded data removed]",
      "text/plain": [
       "plot without title"
      ]
     },
     "metadata": {},
     "output_type": "display_data"
    }
   ],
   "source": [
    "table_ci<-as.data.frame(table)\n",
    "table_ci$CI_Lower_1 <- table_ci$Estimate - 2.576 * table_ci$'Standard Error'\n",
    "table_ci$CI_Upper_1 <- table_ci$Estimate + 2.576 * table_ci$'Standard Error'\n",
    "table_ci$CI_Lower_5 <- table_ci$Estimate - 1.96 * table_ci$'Standard Error'\n",
    "table_ci$CI_Upper_5 <- table_ci$Estimate + 1.96 * table_ci$'Standard Error'\n",
    "table_ci$CI_Lower_10 <- table_ci$Estimate - 1.645 * table_ci$'Standard Error'\n",
    "table_ci$CI_Upper_10 <- table_ci$Estimate + 1.645 * table_ci$'Standard Error'\n",
    "\n",
    "ggplot(table_ci, aes(x = rownames(table_ci), y = Estimate)) +\n",
    "  geom_point(size = 4) +\n",
    "  geom_errorbar(aes(ymin = CI_Lower_5, ymax = CI_Upper_5), width = 0.2, color = \"blue\", alpha = 0.7) +\n",
    "  geom_errorbar(aes(ymin = CI_Lower_10, ymax = CI_Upper_10), width = 0.1, color = \"red\", alpha = 0.7) +\n",
    "  geom_errorbar(aes(ymin = CI_Lower_1, ymax = CI_Upper_1), width = 0.05, color = \"green\", alpha = 0.7) +\n",
    "  labs(title = \"Estimated Coefficients with Confidence Intervals\",\n",
    "       y = \"Estimate\",\n",
    "       x = \"Method\") +\n",
    "  theme_minimal() +\n",
    "  theme(axis.text.x = element_text(angle = 45, hjust = 1))"
   ]
  },
  {
   "cell_type": "markdown",
   "metadata": {},
   "source": [
    "#### 3.6. Model"
   ]
  },
  {
   "cell_type": "markdown",
   "metadata": {
    "vscode": {
     "languageId": "r"
    }
   },
   "source": [
    "To choose the best model, we must compare the RMSEs of the outcome variable Y. In this case, the model with the lowest RMSE for Y \n",
    "is generated by Lasso (0.4716420), whereas the lowest for the treatment is generated by Boosting Trees (0.4983734). Therefore, DML \n",
    "could be employed with Y cleaned using Lasso and the treatment using Boosting Trees."
   ]
  }
 ],
 "metadata": {
  "kernelspec": {
   "display_name": "R",
   "language": "R",
   "name": "ir"
  },
  "language_info": {
   "codemirror_mode": "r",
   "file_extension": ".r",
   "mimetype": "text/x-r-source",
   "name": "R",
   "pygments_lexer": "r",
   "version": "4.3.3"
  }
 },
 "nbformat": 4,
 "nbformat_minor": 4
}